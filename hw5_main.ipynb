{
 "cells": [
  {
   "cell_type": "markdown",
   "metadata": {},
   "source": [
    "# Homework 5 - Explore Wikipedia's hyperlinks network"
   ]
  },
  {
   "cell_type": "markdown",
   "metadata": {},
   "source": [
    "Useful libraries"
   ]
  },
  {
   "cell_type": "code",
   "execution_count": 1,
   "metadata": {},
   "outputs": [],
   "source": [
    "import pandas as pd\n",
    "import numpy as np\n",
    "import re\n",
    "import random\n",
    "from random import randint\n",
    "from random import seed\n",
    "import math\n",
    "import networkx as nx\n",
    "import matplotlib.pyplot as plt"
   ]
  },
  {
   "cell_type": "code",
   "execution_count": 123,
   "metadata": {},
   "outputs": [],
   "source": [
    "import modules_hw5 as mod"
   ]
  },
  {
   "cell_type": "markdown",
   "metadata": {},
   "source": [
    "Import the dataset"
   ]
  },
  {
   "cell_type": "code",
   "execution_count": 3,
   "metadata": {},
   "outputs": [],
   "source": [
    "dataset = pd.read_csv('wikigraph_reduced.csv', sep='\\t', \n",
    "                      delimiter=None, header='infer',\n",
    "                      names=None, index_col=None, \n",
    "                      usecols=None, \n",
    "                      encoding = \"ISO-8859-1\")"
   ]
  },
  {
   "cell_type": "code",
   "execution_count": 4,
   "metadata": {},
   "outputs": [
    {
     "data": {
      "text/html": [
       "<div>\n",
       "<style scoped>\n",
       "    .dataframe tbody tr th:only-of-type {\n",
       "        vertical-align: middle;\n",
       "    }\n",
       "\n",
       "    .dataframe tbody tr th {\n",
       "        vertical-align: top;\n",
       "    }\n",
       "\n",
       "    .dataframe thead th {\n",
       "        text-align: right;\n",
       "    }\n",
       "</style>\n",
       "<table border=\"1\" class=\"dataframe\">\n",
       "  <thead>\n",
       "    <tr style=\"text-align: right;\">\n",
       "      <th></th>\n",
       "      <th>Unnamed: 0</th>\n",
       "      <th>0</th>\n",
       "      <th>1</th>\n",
       "    </tr>\n",
       "  </thead>\n",
       "  <tbody>\n",
       "    <tr>\n",
       "      <th>0</th>\n",
       "      <td>796</td>\n",
       "      <td>95</td>\n",
       "      <td>1185516</td>\n",
       "    </tr>\n",
       "    <tr>\n",
       "      <th>1</th>\n",
       "      <td>909</td>\n",
       "      <td>108</td>\n",
       "      <td>1059989</td>\n",
       "    </tr>\n",
       "    <tr>\n",
       "      <th>2</th>\n",
       "      <td>910</td>\n",
       "      <td>108</td>\n",
       "      <td>1062426</td>\n",
       "    </tr>\n",
       "    <tr>\n",
       "      <th>3</th>\n",
       "      <td>911</td>\n",
       "      <td>108</td>\n",
       "      <td>1161925</td>\n",
       "    </tr>\n",
       "    <tr>\n",
       "      <th>4</th>\n",
       "      <td>1141</td>\n",
       "      <td>134</td>\n",
       "      <td>541222</td>\n",
       "    </tr>\n",
       "  </tbody>\n",
       "</table>\n",
       "</div>"
      ],
      "text/plain": [
       "   Unnamed: 0    0        1\n",
       "0         796   95  1185516\n",
       "1         909  108  1059989\n",
       "2         910  108  1062426\n",
       "3         911  108  1161925\n",
       "4        1141  134   541222"
      ]
     },
     "execution_count": 4,
     "metadata": {},
     "output_type": "execute_result"
    }
   ],
   "source": [
    "dataset.head()"
   ]
  },
  {
   "cell_type": "code",
   "execution_count": 5,
   "metadata": {},
   "outputs": [
    {
     "data": {
      "text/plain": [
       "Index(['Unnamed: 0', '0', '1'], dtype='object')"
      ]
     },
     "execution_count": 5,
     "metadata": {},
     "output_type": "execute_result"
    }
   ],
   "source": [
    "dataset.columns"
   ]
  },
  {
   "cell_type": "markdown",
   "metadata": {},
   "source": [
    "Change the columns name; 0 is the **source** and 1 is the **target**"
   ]
  },
  {
   "cell_type": "code",
   "execution_count": 6,
   "metadata": {},
   "outputs": [],
   "source": [
    "dataset.columns=['Index','Source','Target']"
   ]
  },
  {
   "cell_type": "markdown",
   "metadata": {},
   "source": [
    "Make the first column the index"
   ]
  },
  {
   "cell_type": "code",
   "execution_count": 7,
   "metadata": {
    "scrolled": true
   },
   "outputs": [],
   "source": [
    "dataset.set_index('Index' , inplace = True)"
   ]
  },
  {
   "cell_type": "code",
   "execution_count": 8,
   "metadata": {},
   "outputs": [
    {
     "data": {
      "text/html": [
       "<div>\n",
       "<style scoped>\n",
       "    .dataframe tbody tr th:only-of-type {\n",
       "        vertical-align: middle;\n",
       "    }\n",
       "\n",
       "    .dataframe tbody tr th {\n",
       "        vertical-align: top;\n",
       "    }\n",
       "\n",
       "    .dataframe thead th {\n",
       "        text-align: right;\n",
       "    }\n",
       "</style>\n",
       "<table border=\"1\" class=\"dataframe\">\n",
       "  <thead>\n",
       "    <tr style=\"text-align: right;\">\n",
       "      <th></th>\n",
       "      <th>Source</th>\n",
       "      <th>Target</th>\n",
       "    </tr>\n",
       "    <tr>\n",
       "      <th>Index</th>\n",
       "      <th></th>\n",
       "      <th></th>\n",
       "    </tr>\n",
       "  </thead>\n",
       "  <tbody>\n",
       "    <tr>\n",
       "      <th>796</th>\n",
       "      <td>95</td>\n",
       "      <td>1185516</td>\n",
       "    </tr>\n",
       "    <tr>\n",
       "      <th>909</th>\n",
       "      <td>108</td>\n",
       "      <td>1059989</td>\n",
       "    </tr>\n",
       "    <tr>\n",
       "      <th>910</th>\n",
       "      <td>108</td>\n",
       "      <td>1062426</td>\n",
       "    </tr>\n",
       "    <tr>\n",
       "      <th>911</th>\n",
       "      <td>108</td>\n",
       "      <td>1161925</td>\n",
       "    </tr>\n",
       "    <tr>\n",
       "      <th>1141</th>\n",
       "      <td>134</td>\n",
       "      <td>541222</td>\n",
       "    </tr>\n",
       "  </tbody>\n",
       "</table>\n",
       "</div>"
      ],
      "text/plain": [
       "       Source   Target\n",
       "Index                 \n",
       "796        95  1185516\n",
       "909       108  1059989\n",
       "910       108  1062426\n",
       "911       108  1161925\n",
       "1141      134   541222"
      ]
     },
     "execution_count": 8,
     "metadata": {},
     "output_type": "execute_result"
    }
   ],
   "source": [
    "dataset.head()"
   ]
  },
  {
   "cell_type": "markdown",
   "metadata": {},
   "source": [
    "### RQ1. Create the graph\n",
    "Create two dictionaries for the nodes of the graph; one is for the indegree node, the other one is for the outdegree node. Note that the dictionaries contain the unique element."
   ]
  },
  {
   "cell_type": "code",
   "execution_count": 9,
   "metadata": {},
   "outputs": [],
   "source": [
    "in_degree = {v: [] for v in set(dataset.Source)}\n",
    "out_degree = {v: [] for v in set(dataset.Target)}"
   ]
  },
  {
   "cell_type": "code",
   "execution_count": 10,
   "metadata": {},
   "outputs": [],
   "source": [
    "for row in dataset.iterrows():\n",
    "    source = row[1][0]\n",
    "    target = row[1][1]\n",
    "    in_degree[source].append(target)\n",
    "    out_degree[target].append(source)"
   ]
  },
  {
   "cell_type": "markdown",
   "metadata": {},
   "source": [
    "Visualize how many *in link* and *out link* has the graph"
   ]
  },
  {
   "cell_type": "code",
   "execution_count": 11,
   "metadata": {},
   "outputs": [
    {
     "name": "stdout",
     "output_type": "stream",
     "text": [
      "75467\n"
     ]
    }
   ],
   "source": [
    "n_art_outlink = len(out_degree)\n",
    "print(n_art_outlink)"
   ]
  },
  {
   "cell_type": "code",
   "execution_count": 12,
   "metadata": {
    "scrolled": true
   },
   "outputs": [
    {
     "name": "stdout",
     "output_type": "stream",
     "text": [
      "90920\n"
     ]
    }
   ],
   "source": [
    "n_art_inlink = len(in_degree)\n",
    "print(n_art_inlink)"
   ]
  },
  {
   "cell_type": "markdown",
   "metadata": {},
   "source": [
    "#### Is the graph directed?"
   ]
  },
  {
   "cell_type": "code",
   "execution_count": 13,
   "metadata": {},
   "outputs": [
    {
     "name": "stdout",
     "output_type": "stream",
     "text": [
      "The graph is directed\n"
     ]
    }
   ],
   "source": [
    "if (len(set(dataset.Source).intersection(set(dataset.Target)))!=0):\n",
    "     print ('The graph is directed')"
   ]
  },
  {
   "cell_type": "markdown",
   "metadata": {},
   "source": [
    "#### How many articles are we considering?"
   ]
  },
  {
   "cell_type": "code",
   "execution_count": 14,
   "metadata": {
    "scrolled": true
   },
   "outputs": [
    {
     "name": "stdout",
     "output_type": "stream",
     "text": [
      "98343\n"
     ]
    }
   ],
   "source": [
    "#In the variable below we save all the articles that compose the graph\n",
    "nodes = set(dataset.Source).union(set(dataset.Target))\n",
    "n_nodes = len(nodes)\n",
    "print(n_nodes)"
   ]
  },
  {
   "cell_type": "markdown",
   "metadata": {},
   "source": [
    "#### How many hyperlinks between pages exist?"
   ]
  },
  {
   "cell_type": "code",
   "execution_count": 15,
   "metadata": {
    "scrolled": true
   },
   "outputs": [
    {
     "name": "stdout",
     "output_type": "stream",
     "text": [
      "483094\n"
     ]
    }
   ],
   "source": [
    "n_edges = len(dataset)\n",
    "print(n_edges)"
   ]
  },
  {
   "cell_type": "markdown",
   "metadata": {},
   "source": [
    "#### Compute the average number of links in an arbitrary page"
   ]
  },
  {
   "cell_type": "code",
   "execution_count": 16,
   "metadata": {},
   "outputs": [
    {
     "name": "stdout",
     "output_type": "stream",
     "text": [
      "The average number of outlinks in a page is:  5\n"
     ]
    }
   ],
   "source": [
    "n_outlinks = []\n",
    "for node in nodes:\n",
    "    try:\n",
    "        out_deg = len(out_degree[node])\n",
    "    except:\n",
    "        out_deg = 0\n",
    "    n_outlinks.append(out_deg)\n",
    "avg_outlink = np.mean(n_outlinks)\n",
    "print('The average number of outlinks in a page is: ',round(avg_outlink))"
   ]
  },
  {
   "cell_type": "markdown",
   "metadata": {},
   "source": [
    "#### What is the graph density?\n",
    "For directed graph the density is given by: $$\\frac{|E|}{|V|(|V|-1)}$$\n",
    "\n"
   ]
  },
  {
   "cell_type": "code",
   "execution_count": 17,
   "metadata": {},
   "outputs": [
    {
     "name": "stdout",
     "output_type": "stream",
     "text": [
      "4.9951571365597335e-05\n"
     ]
    }
   ],
   "source": [
    "density = (n_edges/(n_nodes*(n_nodes-1)))\n",
    "print(density)"
   ]
  },
  {
   "cell_type": "markdown",
   "metadata": {},
   "source": [
    "#### The graph is dense or sparse?"
   ]
  },
  {
   "cell_type": "markdown",
   "metadata": {},
   "source": [
    "Since the value of the density of our graph is very low, we can assume that our graph is **sparse**."
   ]
  },
  {
   "cell_type": "code",
   "execution_count": 18,
   "metadata": {},
   "outputs": [
    {
     "name": "stdout",
     "output_type": "stream",
     "text": [
      "Max number of edges: 9671345649\n",
      "Number of edges:  483094\n"
     ]
    }
   ],
   "source": [
    "print('Max number of edges:',n_nodes**2)\n",
    "print('Number of edges: ',n_edges)"
   ]
  },
  {
   "cell_type": "markdown",
   "metadata": {},
   "source": [
    "#### Visualize the nodes' degree distribution"
   ]
  },
  {
   "cell_type": "markdown",
   "metadata": {},
   "source": [
    "At first we save the connections of each node into a list, then we store that list into a pandas Series in order to plot it."
   ]
  },
  {
   "cell_type": "code",
   "execution_count": 19,
   "metadata": {},
   "outputs": [],
   "source": [
    "connections = []\n",
    "for node in nodes:\n",
    "    try:\n",
    "        in_deg = len(in_degree[node])\n",
    "    except:\n",
    "        in_deg = 0\n",
    "    try:\n",
    "        out_deg = len(out_degree[node])\n",
    "    except:\n",
    "        out_deg = 0\n",
    "    connections.append(in_deg+out_deg)"
   ]
  },
  {
   "cell_type": "code",
   "execution_count": 20,
   "metadata": {},
   "outputs": [],
   "source": [
    "series=pd.Series(connections)\n",
    "degrees=series.groupby(by=connections).count()\n",
    "d_sum=np.sum(degrees)\n",
    "# the first 50 degrees values are enough to give a true representation\n",
    "degrees=degrees[0:50]   \n",
    "degrees=degrees/d_sum\n",
    "\n",
    "degrees_sum=0\n",
    "cdf_list=[]\n",
    "for x in degrees:  \n",
    "    degrees_sum=(degrees_sum+x)   \n",
    "    cdf_list.append(degrees_sum)"
   ]
  },
  {
   "cell_type": "code",
   "execution_count": 21,
   "metadata": {},
   "outputs": [
    {
     "data": {
      "image/png": "[encoded data removed]",
      "text/plain": [
       "<Figure size 1152x648 with 1 Axes>"
      ]
     },
     "metadata": {
      "needs_background": "light"
     },
     "output_type": "display_data"
    }
   ],
   "source": [
    "plt.figure(figsize=(16,9));\n",
    "plt.xticks(np.arange(1,51,1));\n",
    "plt.yticks(np.arange(0,1,0.01));\n",
    "plt.xlabel('node degree value');\n",
    "plt.ylabel('density');\n",
    "plt.title('nodes degree distribution'.upper());\n",
    "plt.bar(degrees.index,degrees,color='lightblue',width=0.5);"
   ]
  },
  {
   "cell_type": "code",
   "execution_count": 22,
   "metadata": {
    "scrolled": true
   },
   "outputs": [
    {
     "data": {
      "image/png": "[encoded data removed]",
      "text/plain": [
       "<Figure size 1152x648 with 1 Axes>"
      ]
     },
     "metadata": {
      "needs_background": "light"
     },
     "output_type": "display_data"
    }
   ],
   "source": [
    "plt.figure(figsize=(16,9));\n",
    "plt.xticks(np.arange(1,51,1));\n",
    "plt.yticks(np.arange(0,1.05,0.05));\n",
    "plt.xlabel('node degree value');\n",
    "plt.ylabel('density');\n",
    "plt.title('CDF of nodes degree'.upper());\n",
    "plt.bar(degrees.index,cdf_list,color='salmon',width=0.5);"
   ]
  },
  {
   "cell_type": "markdown",
   "metadata": {},
   "source": [
    "#### Importing file of page's names"
   ]
  },
  {
   "cell_type": "code",
   "execution_count": 23,
   "metadata": {},
   "outputs": [],
   "source": [
    "f_pages=open('wiki-topcats-page-names.txt','r')\n",
    "names=list(f_pages.readlines())"
   ]
  },
  {
   "cell_type": "code",
   "execution_count": 24,
   "metadata": {},
   "outputs": [],
   "source": [
    "page_names=mod.text_fix(names)"
   ]
  },
  {
   "cell_type": "markdown",
   "metadata": {},
   "source": [
    "#### Importing file of categories "
   ]
  },
  {
   "cell_type": "code",
   "execution_count": 25,
   "metadata": {},
   "outputs": [],
   "source": [
    "f_cat=open('wiki-topcats-categories.txt','r')\n",
    "cat=list(f_cat.readlines())\n",
    "l=cat[0].split(' ')"
   ]
  },
  {
   "cell_type": "markdown",
   "metadata": {},
   "source": [
    "Once we have the imported file, from this we create 2 dictionaries:\n",
    "* **categories** is a dictionary with key = node; value = category\n",
    "* **categories_file** is the same dictionary but with the inverted arguments, like the file's structure: key= category; value = nodes"
   ]
  },
  {
   "cell_type": "code",
   "execution_count": 26,
   "metadata": {},
   "outputs": [],
   "source": [
    "categories, categories_file=mod.categories_building(cat,nodes)"
   ]
  },
  {
   "cell_type": "code",
   "execution_count": 27,
   "metadata": {},
   "outputs": [
    {
     "name": "stdout",
     "output_type": "stream",
     "text": [
      "['Rivers_of_Hunedoara_County', 'Rivers_of_the_Mure_subbasin', 'Rivers_of_Romania']\n",
      "\n",
      "[948021, 1055485, 1164028, 1715998]\n"
     ]
    }
   ],
   "source": [
    "print(categories[1000831])#giving a page we can see the related category\n",
    "print()\n",
    "print(categories_file['Eli_Lilly_and_Company']) #giving a category we can see the associated pages"
   ]
  },
  {
   "cell_type": "markdown",
   "metadata": {},
   "source": [
    "### Filter the category dictionaries:\n",
    "#### \"In the case of multiple appearance, you break the ties uniformly at random\"\n",
    "*categories_filtered* is the new dictionary containing the filtered *categories*."
   ]
  },
  {
   "cell_type": "code",
   "execution_count": 28,
   "metadata": {
    "scrolled": false
   },
   "outputs": [],
   "source": [
    "categories_filtered={}\n",
    "seed(34)\n",
    "for node in categories.keys():\n",
    "    try:\n",
    "        rand_category = random.choice(categories[node])\n",
    "        categories_filtered[node] = rand_category\n",
    "    except:\n",
    "        categories_filtered[node] = 'Nan'"
   ]
  },
  {
   "cell_type": "code",
   "execution_count": 29,
   "metadata": {
    "scrolled": true
   },
   "outputs": [],
   "source": [
    "#print(categories_filtered.keys())"
   ]
  },
  {
   "cell_type": "markdown",
   "metadata": {},
   "source": [
    "*categories_file_filtered* is the new dictionary containing the filtered *categories_file* but with key = category and values = nodes."
   ]
  },
  {
   "cell_type": "code",
   "execution_count": 30,
   "metadata": {},
   "outputs": [],
   "source": [
    "categories_file_filtered = {category:[] for category in set(categories_filtered.values())}\n",
    "for node in categories_filtered.keys():\n",
    "    try:\n",
    "        categories_file_filtered[categories_filtered[node]].append(node)\n",
    "    except:\n",
    "        continue"
   ]
  },
  {
   "cell_type": "code",
   "execution_count": 31,
   "metadata": {},
   "outputs": [
    {
     "name": "stdout",
     "output_type": "stream",
     "text": [
      "[153, 71350, 71574, 113250, 123438, 137563, 144751, 152836, 170043, 258109, 271126, 296133, 343203, 351575, 355726, 358607, 358687, 373459, 395586, 402971, 418342, 419902, 427505, 427985, 430122, 430663, 436016, 468579, 469894, 499883, 501391, 501465, 559711, 573762, 581243, 581515, 581584, 581593, 581735, 581761, 581782, 582203, 582429, 582443, 582473, 582505, 582547, 583054, 583061, 583072, 583082, 583088, 583104, 583125, 583166, 583320, 583517, 583614, 583616, 583626, 583792, 583797, 583871, 583989, 584081, 584086, 584124, 584232, 584235, 584256, 584291, 584293, 584297, 584317, 584600, 584623, 584672, 584726, 584759, 584769, 584791, 584794, 584919, 585019, 585344, 585449, 585756, 586443, 586448, 586493, 586498, 586502, 586622, 586723, 587360, 587465, 587987, 588122, 588124, 588150, 588231, 588618, 591621, 594726, 605617, 610922, 627149, 629539, 631611, 634276, 637607, 672902, 675292, 676445, 710618, 711466, 711633, 716911, 724842, 724863, 724874, 725185, 733940, 741002, 743648, 743748, 744121, 749081, 775038, 775053, 775182, 775949, 800238, 800507, 830520, 893027, 922638, 938102, 940719, 960738, 971349, 1014939, 1015077, 1015429, 1015666, 1028225, 1030686, 1030687, 1034852, 1040912, 1048248, 1048352, 1048648, 1048653, 1048819, 1049526, 1050585, 1050711, 1052907, 1052944, 1053833, 1053849, 1054245, 1054284, 1054342, 1054362, 1054494, 1054533, 1054664, 1054743, 1054911, 1054940, 1055009, 1055133, 1055279, 1055495, 1055775, 1056652, 1056868, 1056951, 1057069, 1057117, 1057217, 1057394, 1058468, 1059075, 1059174, 1064349, 1064354, 1064893, 1064947, 1065687, 1066349, 1066360, 1066380, 1066431, 1066589, 1066674, 1066675, 1066723, 1066767, 1066883, 1067120, 1067217, 1067515, 1067518, 1068144, 1068306, 1068326, 1068411, 1068459, 1068496, 1068801, 1069289, 1070254, 1070316, 1070317, 1070434, 1070654, 1070658, 1074888, 1075259, 1075263, 1075373, 1077797, 1078301, 1079503, 1079561, 1080822, 1084393, 1085699, 1085735, 1085850, 1110229, 1132201, 1150419, 1151251, 1209331, 1220597, 1221107, 1239767, 1244044, 1244068, 1249855, 1263905, 1268103, 1270677, 1278391, 1293210, 1300396, 1303856, 1364595, 1378192, 1396047, 1429806, 1448668, 1451462, 1475374, 1489355, 1507388, 1508226, 1528964, 1556223, 1557420, 1577343, 1585777, 1587373, 1589342, 1597972, 1619029, 1620075, 1622974, 1627001, 1662033, 1664666, 1669903, 1678376, 1678503, 1691273, 1692070, 1701415, 1706622, 1707025, 1707383, 1709377, 1713411, 1747014, 1758033, 1758320, 1759828, 1761278, 1763554, 1770633, 1774411, 1775016, 1775562, 1788503, 1788743]\n"
     ]
    }
   ],
   "source": [
    "#before filtering:\n",
    "print(categories_file['Upcoming_films'])"
   ]
  },
  {
   "cell_type": "code",
   "execution_count": 32,
   "metadata": {},
   "outputs": [
    {
     "name": "stdout",
     "output_type": "stream",
     "text": [
      "[1048648, 153, 1049526, 1052907, 1054743, 1054911, 1054940, 1056868, 1064893, 1589342, 1068411, 1070434, 1079561, 1080822, 559711, 1085699, 1619029, 1622974, 581243, 581515, 582443, 583088, 583125, 583989, 584081, 584232, 584291, 584726, 585756, 1110229, 586443, 586493, 586498, 586502, 586622, 587987, 588124, 588618, 591621, 71350, 1151251, 629539, 1678376, 1585777, 1067515, 1701415, 676445, 716911, 724874, 1263905, 775038, 775182, 258109, 800238, 800507, 355726, 358607, 893027, 395586, 922638, 402971, 427985, 430663, 436016, 960738, 971349, 1508226, 1015666, 1034852, 1040912, 1770633, 1048248]\n"
     ]
    }
   ],
   "source": [
    "#After filtering:\n",
    "print(categories_file_filtered['Upcoming_films'])"
   ]
  },
  {
   "cell_type": "markdown",
   "metadata": {},
   "source": [
    "## RQ2\n",
    "Define a function that takes in input:\n",
    "\n",
    "- A page v\n",
    "- A number of clicks d\n",
    "\n",
    "\n",
    "and returns the set of all pages that a user can reach within d clicks."
   ]
  },
  {
   "cell_type": "code",
   "execution_count": 33,
   "metadata": {},
   "outputs": [
    {
     "name": "stdout",
     "output_type": "stream",
     "text": [
      "Number of clicks:  2\n",
      "Page:  786432\n"
     ]
    }
   ],
   "source": [
    "#seed for random number generator\n",
    "seed(3)\n",
    "#select a random number of click in a range (1,6)\n",
    "d = randint(1,6)\n",
    "print('Number of clicks: ', d)\n",
    "#pick a random page in the out_degree dictionary\n",
    "v = random.choice(list(out_degree.values())[1])\n",
    "print('Page: ',v)\n",
    "#the count starts from 1 \n",
    "result = mod.clicks(d,1,[v],[],out_degree) "
   ]
  },
  {
   "cell_type": "code",
   "execution_count": 34,
   "metadata": {},
   "outputs": [
    {
     "name": "stdout",
     "output_type": "stream",
     "text": [
      "Set of pages:  {786432, 786433, 1622420, 787486, 1622313, 787374, 787377, 1622321, 785340, 999877, 786381, 786382, 786383, 786384, 786385, 786386, 786387, 786388, 787539, 787290, 783579, 787552, 1622647, 785517, 787822, 786295, 786424, 1000831}\n"
     ]
    }
   ],
   "source": [
    "print('Set of pages: ',set(result))"
   ]
  },
  {
   "cell_type": "markdown",
   "metadata": {},
   "source": [
    "## RQ3\n",
    "Define a function that takes in input:\n",
    "\n",
    "- A category C\n",
    "- A set of pages in C, p = {p1, ..., pn}\n",
    "\n",
    "\n",
    "and returns the minimum number of clicks required to reach all pages in p, starting from the page v, corresponding to the most central article, according to the in-degree centrality, in C. "
   ]
  },
  {
   "cell_type": "markdown",
   "metadata": {},
   "source": [
    "Definition of the input of our algorithm:"
   ]
  },
  {
   "cell_type": "code",
   "execution_count": 35,
   "metadata": {},
   "outputs": [],
   "source": [
    "C = 'Rivers_of_Hunedoara_County'\n",
    "p = list(categories_file_filtered[C])\n",
    "\n",
    "C1 = 'Upcoming_films'\n",
    "p1 = list(categories_file_filtered[C1])"
   ]
  },
  {
   "cell_type": "markdown",
   "metadata": {},
   "source": [
    "Firstly we compute the **indegree centrality** in order to find the most central article **v** in the set of pages in the given category C. We use a dictionary in_deg_centr that has as key the node and as value its centrality computed with the formula:\n",
    "$$ \\frac{d_c(v)}{n-1}$$"
   ]
  },
  {
   "cell_type": "code",
   "execution_count": 36,
   "metadata": {},
   "outputs": [],
   "source": [
    "def define_v(n_list):\n",
    "    #initialization of the variables\n",
    "    centrality = 0\n",
    "    central_node = 0\n",
    "    in_deg_centr = {}\n",
    "    for node in n_list:\n",
    "        try:\n",
    "            centrality = len(in_degree[node])\n",
    "            #compute the indegree centrality -> key = node, value = indegree centrality\n",
    "            in_deg_centr[node] = centrality/(len(in_degree)-1)\n",
    "        except:\n",
    "            continue\n",
    "    # Sort dictionary by value in ascending order using lambda function\n",
    "    sorted_dict = dict(sorted(in_deg_centr.items(),key=lambda item: item[1],reverse=True))\n",
    "    #the first item is the node with max indegree centrality\n",
    "    central_node = list(sorted_dict.keys())[0]\n",
    "    return (central_node)"
   ]
  },
  {
   "cell_type": "code",
   "execution_count": 37,
   "metadata": {},
   "outputs": [
    {
     "name": "stdout",
     "output_type": "stream",
     "text": [
      "For the list:  [217763, 1622352, 1622445, 1622627, 1622647, 1622739, 1622741, 1622742, 1622743, 1622745, 1622747, 1622749, 1622750, 1622751, 1622775, 72133, 72144, 1672029, 1687141, 1686680, 1686705, 1687936, 1688025, 1688032, 1688036, 1688037, 722104, 722195, 722378, 722429, 722539, 217762, 783558, 783618, 783710, 783721, 783759, 784113, 784118, 784127, 784185, 784186, 784189, 784317, 784327, 784329, 784353, 784988, 785010, 785152, 785276, 785280, 785340, 785360, 785421, 785440, 785515, 785517, 785518, 785626, 785737, 785738, 785740, 785758, 785779, 785780, 785802, 785830, 785853, 785859, 785892, 785894, 785896, 785992, 786036, 786041, 786042, 786043, 786075, 786137, 786221, 786222, 786238, 786294, 786296, 786304, 786307, 786310, 786373, 786375, 786380, 786387, 786389, 786392, 786394, 786397, 786398, 786402, 786415, 786417, 786418, 786424, 786429, 786622, 786623, 786624, 786625, 786628, 786629, 786632, 786636, 786637, 786743, 786773, 786775, 786948, 786953, 786957, 787098, 787103, 787140, 787141, 787251, 787253, 787254, 787295, 787324, 787325, 787354, 787361, 787364, 787372, 787489, 787539, 787542, 787543, 787553, 787589, 787608, 787611, 787618, 787621, 787622, 787630, 787700, 787708, 787742, 787753, 787765, 787786, 787822, 787823, 787844, 787865, 787884, 787888, 787918, 787925, 787952, 787988, 788009, 788056, 788110, 788121, 788139, 788157, 788158, 786430, 1351067, 889475, 369501, 927870, 930643, 930646, 930647, 938377, 943232, 995973, 996365, 996599, 999598, 999603, 999620, 999828, 999877, 1554020, 1688020] \n",
      "The central node is:  786137\n",
      "\n",
      "For the list:  [1048648, 153, 1049526, 1052907, 1054743, 1054911, 1054940, 1056868, 1064893, 1589342, 1068411, 1070434, 1079561, 1080822, 559711, 1085699, 1619029, 1622974, 581243, 581515, 582443, 583088, 583125, 583989, 584081, 584232, 584291, 584726, 585756, 1110229, 586443, 586493, 586498, 586502, 586622, 587987, 588124, 588618, 591621, 71350, 1151251, 629539, 1678376, 1585777, 1067515, 1701415, 676445, 716911, 724874, 1263905, 775038, 775182, 258109, 800238, 800507, 355726, 358607, 893027, 395586, 922638, 402971, 427985, 430663, 436016, 960738, 971349, 1508226, 1015666, 1034852, 1040912, 1770633, 1048248] \n",
      "The central node is:  1054743\n"
     ]
    }
   ],
   "source": [
    "print('For the list: ', p, '\\nThe central node is: ',define_v(p))\n",
    "print()\n",
    "print('For the list: ', p1, '\\nThe central node is: ',define_v(p1))"
   ]
  },
  {
   "cell_type": "markdown",
   "metadata": {},
   "source": [
    "With the function below we compute the *minimum distances* from a starting node and all the vertexes that belongs to the ***out_degree*** dictionary. \\\n",
    "This function is based on the idea of the BFS, that explores a graph givin a source node and  computes the shortest path between the nodes according to the number of edges instead of the weight. \\\n",
    "The main idea is to start from the most central article and explore the graph of the out degree, and to go always to the node that is closest to the source one. \\\n",
    "So in each iteration: \n",
    "* We extract a node from the queue that has the shortest distance from the source node\n",
    "* We visit all the neighbors of the extracted node and check the new distance we were able to achieve\n",
    "    - If we didn't explore that node yet, we update the distance of this node and push it to the queue. \n",
    "* Then the algorithm continues until the queue is empty.\n",
    "\n",
    "Since we are dealing with edges that has weight equal to 1, we are sure that all the direct neighbors of the source node have a distance equal to one and that all the second neighbors of the source node have a distance equal to two, and so on. \\\n",
    "But in the case we reached a node that has been visited before, we have to ignore it since we must have reached it with a shorter path before. \\\n",
    "At the end we return a dictionary where the key is the node and the value is the minimum number of links (the distance) between the most central article and that node."
   ]
  },
  {
   "cell_type": "code",
   "execution_count": 38,
   "metadata": {},
   "outputs": [],
   "source": [
    "def shortest_path(subgraph,start_vertex):\n",
    "    queue=[]\n",
    "    queue.append(start_vertex)\n",
    "    dist={} \n",
    "    #the distance between the start_vertex and itself is 0\n",
    "    dist[start_vertex]=0\n",
    "    visited={vertex:False for vertex in subgraph.keys()}\n",
    "    visited[start_vertex]=True\n",
    "  \n",
    "    while not len(queue)==0:\n",
    "        count=0\n",
    "        #extract a vertex from the queue and explore it\n",
    "        vertex=queue.pop(0)\n",
    "                     \n",
    "        for neighbour in subgraph[vertex]:          \n",
    "            try:\n",
    "                if visited[neighbour]==False:                   \n",
    "                    visited[neighbour]=True\n",
    "                    #increase the distances by 1\n",
    "                    dist[neighbour]=dist[vertex]+1\n",
    "                    #add the node in the queue\n",
    "                    queue.append(neighbour)\n",
    "            except KeyError:\n",
    "                continue\n",
    "    return dist"
   ]
  },
  {
   "cell_type": "markdown",
   "metadata": {},
   "source": [
    "In order to define the minimun number of clicks, the *heuristic solution* we provide is to consider the path you should follow to **reach a page from a starting node and to go back to the starting point**. \\\n",
    "In case the page isn't reacheable from v, then the function give in output the string \"Not possible\" and indicates for which page in the list there isn't a path."
   ]
  },
  {
   "cell_type": "code",
   "execution_count": 39,
   "metadata": {},
   "outputs": [],
   "source": [
    "def num_clicks(page_list):\n",
    "    #save all the node and the distances that v can reach\n",
    "    distances_dict = shortest_path(out_degree,define_v(page_list))\n",
    "    min_clicks = 0\n",
    "    #initialize the list of pages reached from v\n",
    "    dist_page = []\n",
    "    #remove the item that has '0' as value (because it's the starting node) \n",
    "    distances_zero = {key:val for key, val in distances_dict.items() if val != 0}\n",
    "    #remove as well the starting node from the list of pages p\n",
    "    page_list.remove(define_v(page_list))\n",
    "    #iterate trought the list p in input\n",
    "    for pg in page_list:\n",
    "        #append in the list only the pages reached from v\n",
    "        if distances_zero.get(pg) is not None:\n",
    "            dist_page.append(pg)\n",
    "        else:\n",
    "            #otherwise, handle the case where not all the pages in p are reachable from v\n",
    "            print('Not possible for page: ', pg)\n",
    "    \n",
    "    for page in dist_page[:-1]:\n",
    "        print('Page: ',page,' distance from v: ',distances_zero[page])\n",
    "        min_clicks += distances_zero[page]*2 #to go and back\n",
    "\n",
    "    min_clicks += distances_zero[dist_page[-1:][0]]\n",
    "    return min_clicks"
   ]
  },
  {
   "cell_type": "markdown",
   "metadata": {},
   "source": [
    "Here we provide some examples using different categories. \\\n",
    "As we can see, not all the pages in the list p are reached from v, but for those with which the page v is connected, the distance has a small value. It's reasonable since the pages belong to the same category."
   ]
  },
  {
   "cell_type": "code",
   "execution_count": 40,
   "metadata": {},
   "outputs": [
    {
     "name": "stdout",
     "output_type": "stream",
     "text": [
      "Not possible for page:  72133\n",
      "Not possible for page:  785010\n",
      "Not possible for page:  785152\n",
      "Not possible for page:  785518\n",
      "Not possible for page:  785737\n",
      "Not possible for page:  785740\n",
      "Not possible for page:  785779\n",
      "Not possible for page:  785780\n",
      "Not possible for page:  785992\n",
      "Not possible for page:  787324\n",
      "Not possible for page:  787325\n",
      "Not possible for page:  787742\n",
      "Not possible for page:  787786\n",
      "Not possible for page:  787952\n",
      "Page:  217763  distance from v:  10\n",
      "Page:  1622352  distance from v:  6\n",
      "Page:  1622445  distance from v:  6\n",
      "Page:  1622627  distance from v:  5\n",
      "Page:  1622647  distance from v:  5\n",
      "Page:  1622739  distance from v:  7\n",
      "Page:  1622741  distance from v:  7\n",
      "Page:  1622742  distance from v:  7\n",
      "Page:  1622743  distance from v:  7\n",
      "Page:  1622745  distance from v:  7\n",
      "Page:  1622747  distance from v:  7\n",
      "Page:  1622749  distance from v:  7\n",
      "Page:  1622750  distance from v:  7\n",
      "Page:  1622751  distance from v:  7\n",
      "Page:  1622775  distance from v:  2\n",
      "Page:  72144  distance from v:  8\n",
      "Page:  1672029  distance from v:  6\n",
      "Page:  1687141  distance from v:  5\n",
      "Page:  1686680  distance from v:  6\n",
      "Page:  1686705  distance from v:  5\n",
      "Page:  1687936  distance from v:  6\n",
      "Page:  1688025  distance from v:  3\n",
      "Page:  1688032  distance from v:  5\n",
      "Page:  1688036  distance from v:  6\n",
      "Page:  1688037  distance from v:  5\n",
      "Page:  722104  distance from v:  7\n",
      "Page:  722195  distance from v:  7\n",
      "Page:  722378  distance from v:  6\n",
      "Page:  722429  distance from v:  7\n",
      "Page:  722539  distance from v:  6\n",
      "Page:  217762  distance from v:  9\n",
      "Page:  783558  distance from v:  7\n",
      "Page:  783618  distance from v:  5\n",
      "Page:  783710  distance from v:  5\n",
      "Page:  783721  distance from v:  4\n",
      "Page:  783759  distance from v:  4\n",
      "Page:  784113  distance from v:  6\n",
      "Page:  784118  distance from v:  6\n",
      "Page:  784127  distance from v:  4\n",
      "Page:  784185  distance from v:  10\n",
      "Page:  784186  distance from v:  9\n",
      "Page:  784189  distance from v:  9\n",
      "Page:  784317  distance from v:  8\n",
      "Page:  784327  distance from v:  2\n",
      "Page:  784329  distance from v:  1\n",
      "Page:  784353  distance from v:  5\n",
      "Page:  784988  distance from v:  7\n",
      "Page:  785276  distance from v:  8\n",
      "Page:  785280  distance from v:  3\n",
      "Page:  785340  distance from v:  6\n",
      "Page:  785360  distance from v:  8\n",
      "Page:  785421  distance from v:  8\n",
      "Page:  785440  distance from v:  3\n",
      "Page:  785515  distance from v:  3\n",
      "Page:  785517  distance from v:  5\n",
      "Page:  785626  distance from v:  6\n",
      "Page:  785738  distance from v:  6\n",
      "Page:  785758  distance from v:  7\n",
      "Page:  785802  distance from v:  6\n",
      "Page:  785830  distance from v:  7\n",
      "Page:  785853  distance from v:  6\n",
      "Page:  785859  distance from v:  5\n",
      "Page:  785892  distance from v:  7\n",
      "Page:  785894  distance from v:  7\n",
      "Page:  785896  distance from v:  6\n",
      "Page:  786036  distance from v:  2\n",
      "Page:  786041  distance from v:  4\n",
      "Page:  786042  distance from v:  6\n",
      "Page:  786043  distance from v:  2\n",
      "Page:  786075  distance from v:  7\n",
      "Page:  786221  distance from v:  2\n",
      "Page:  786222  distance from v:  3\n",
      "Page:  786238  distance from v:  5\n",
      "Page:  786294  distance from v:  4\n",
      "Page:  786296  distance from v:  4\n",
      "Page:  786304  distance from v:  4\n",
      "Page:  786307  distance from v:  4\n",
      "Page:  786310  distance from v:  4\n",
      "Page:  786373  distance from v:  5\n",
      "Page:  786375  distance from v:  2\n",
      "Page:  786380  distance from v:  7\n",
      "Page:  786387  distance from v:  5\n",
      "Page:  786389  distance from v:  7\n",
      "Page:  786392  distance from v:  4\n",
      "Page:  786394  distance from v:  5\n",
      "Page:  786397  distance from v:  5\n",
      "Page:  786398  distance from v:  5\n",
      "Page:  786402  distance from v:  5\n",
      "Page:  786415  distance from v:  6\n",
      "Page:  786417  distance from v:  5\n",
      "Page:  786418  distance from v:  5\n",
      "Page:  786424  distance from v:  5\n",
      "Page:  786429  distance from v:  6\n",
      "Page:  786622  distance from v:  5\n",
      "Page:  786623  distance from v:  4\n",
      "Page:  786624  distance from v:  5\n",
      "Page:  786625  distance from v:  5\n",
      "Page:  786628  distance from v:  2\n",
      "Page:  786629  distance from v:  2\n",
      "Page:  786632  distance from v:  2\n",
      "Page:  786636  distance from v:  7\n",
      "Page:  786637  distance from v:  8\n",
      "Page:  786743  distance from v:  5\n",
      "Page:  786773  distance from v:  4\n",
      "Page:  786775  distance from v:  5\n",
      "Page:  786948  distance from v:  6\n",
      "Page:  786953  distance from v:  2\n",
      "Page:  786957  distance from v:  3\n",
      "Page:  787098  distance from v:  4\n",
      "Page:  787103  distance from v:  4\n",
      "Page:  787140  distance from v:  2\n",
      "Page:  787141  distance from v:  2\n",
      "Page:  787251  distance from v:  3\n",
      "Page:  787253  distance from v:  2\n",
      "Page:  787254  distance from v:  3\n",
      "Page:  787295  distance from v:  5\n",
      "Page:  787354  distance from v:  8\n",
      "Page:  787361  distance from v:  2\n",
      "Page:  787364  distance from v:  2\n",
      "Page:  787372  distance from v:  3\n",
      "Page:  787489  distance from v:  7\n",
      "Page:  787539  distance from v:  5\n",
      "Page:  787542  distance from v:  8\n",
      "Page:  787543  distance from v:  7\n",
      "Page:  787553  distance from v:  6\n",
      "Page:  787589  distance from v:  6\n",
      "Page:  787608  distance from v:  6\n",
      "Page:  787611  distance from v:  6\n",
      "Page:  787618  distance from v:  5\n",
      "Page:  787621  distance from v:  2\n",
      "Page:  787622  distance from v:  3\n",
      "Page:  787630  distance from v:  3\n",
      "Page:  787700  distance from v:  4\n",
      "Page:  787708  distance from v:  6\n",
      "Page:  787753  distance from v:  3\n",
      "Page:  787765  distance from v:  2\n",
      "Page:  787822  distance from v:  5\n",
      "Page:  787823  distance from v:  2\n",
      "Page:  787844  distance from v:  2\n",
      "Page:  787865  distance from v:  2\n",
      "Page:  787884  distance from v:  5\n",
      "Page:  787888  distance from v:  2\n",
      "Page:  787918  distance from v:  3\n",
      "Page:  787925  distance from v:  4\n",
      "Page:  787988  distance from v:  2\n",
      "Page:  788009  distance from v:  2\n",
      "Page:  788056  distance from v:  3\n",
      "Page:  788110  distance from v:  5\n",
      "Page:  788121  distance from v:  5\n",
      "Page:  788139  distance from v:  3\n",
      "Page:  788157  distance from v:  5\n",
      "Page:  788158  distance from v:  4\n",
      "Page:  786430  distance from v:  6\n",
      "Page:  1351067  distance from v:  6\n",
      "Page:  889475  distance from v:  5\n",
      "Page:  369501  distance from v:  5\n",
      "Page:  927870  distance from v:  5\n",
      "Page:  930643  distance from v:  2\n",
      "Page:  930646  distance from v:  3\n",
      "Page:  930647  distance from v:  4\n",
      "Page:  938377  distance from v:  5\n",
      "Page:  943232  distance from v:  2\n",
      "Page:  995973  distance from v:  5\n",
      "Page:  996365  distance from v:  5\n",
      "Page:  996599  distance from v:  3\n",
      "Page:  999598  distance from v:  2\n",
      "Page:  999603  distance from v:  5\n",
      "Page:  999620  distance from v:  3\n",
      "Page:  999828  distance from v:  3\n",
      "Page:  999877  distance from v:  5\n",
      "Page:  1554020  distance from v:  4\n"
     ]
    },
    {
     "data": {
      "text/plain": [
       "1677"
      ]
     },
     "execution_count": 40,
     "metadata": {},
     "output_type": "execute_result"
    }
   ],
   "source": [
    "num_clicks(p)"
   ]
  },
  {
   "cell_type": "code",
   "execution_count": 41,
   "metadata": {},
   "outputs": [
    {
     "name": "stdout",
     "output_type": "stream",
     "text": [
      "Not possible for page:  1080822\n",
      "Not possible for page:  559711\n",
      "Not possible for page:  1622974\n",
      "Not possible for page:  581243\n",
      "Not possible for page:  581515\n",
      "Not possible for page:  583125\n",
      "Not possible for page:  584081\n",
      "Not possible for page:  584232\n",
      "Not possible for page:  584291\n",
      "Not possible for page:  584726\n",
      "Not possible for page:  585756\n",
      "Not possible for page:  586443\n",
      "Not possible for page:  586493\n",
      "Not possible for page:  586502\n",
      "Not possible for page:  586622\n",
      "Not possible for page:  588124\n",
      "Not possible for page:  588618\n",
      "Not possible for page:  591621\n",
      "Not possible for page:  71350\n",
      "Not possible for page:  1151251\n",
      "Not possible for page:  629539\n",
      "Not possible for page:  258109\n",
      "Not possible for page:  800238\n",
      "Not possible for page:  800507\n",
      "Not possible for page:  358607\n",
      "Not possible for page:  430663\n",
      "Not possible for page:  960738\n",
      "Not possible for page:  1015666\n",
      "Not possible for page:  1770633\n",
      "Page:  1048648  distance from v:  5\n",
      "Page:  153  distance from v:  5\n",
      "Page:  1049526  distance from v:  4\n",
      "Page:  1052907  distance from v:  4\n",
      "Page:  1054911  distance from v:  4\n",
      "Page:  1054940  distance from v:  4\n",
      "Page:  1056868  distance from v:  4\n",
      "Page:  1064893  distance from v:  4\n",
      "Page:  1589342  distance from v:  5\n",
      "Page:  1068411  distance from v:  3\n",
      "Page:  1070434  distance from v:  3\n",
      "Page:  1079561  distance from v:  4\n",
      "Page:  1085699  distance from v:  5\n",
      "Page:  1619029  distance from v:  4\n",
      "Page:  582443  distance from v:  5\n",
      "Page:  583088  distance from v:  5\n",
      "Page:  583989  distance from v:  6\n",
      "Page:  1110229  distance from v:  4\n",
      "Page:  586498  distance from v:  6\n",
      "Page:  587987  distance from v:  6\n",
      "Page:  1678376  distance from v:  4\n",
      "Page:  1585777  distance from v:  6\n",
      "Page:  1067515  distance from v:  4\n",
      "Page:  1701415  distance from v:  4\n",
      "Page:  676445  distance from v:  4\n",
      "Page:  716911  distance from v:  3\n",
      "Page:  724874  distance from v:  4\n",
      "Page:  1263905  distance from v:  4\n",
      "Page:  775038  distance from v:  4\n",
      "Page:  775182  distance from v:  2\n",
      "Page:  355726  distance from v:  5\n",
      "Page:  893027  distance from v:  4\n",
      "Page:  395586  distance from v:  4\n",
      "Page:  922638  distance from v:  4\n",
      "Page:  402971  distance from v:  4\n",
      "Page:  427985  distance from v:  2\n",
      "Page:  436016  distance from v:  4\n",
      "Page:  971349  distance from v:  4\n",
      "Page:  1508226  distance from v:  4\n",
      "Page:  1034852  distance from v:  3\n",
      "Page:  1040912  distance from v:  3\n"
     ]
    },
    {
     "data": {
      "text/plain": [
       "344"
      ]
     },
     "execution_count": 41,
     "metadata": {},
     "output_type": "execute_result"
    }
   ],
   "source": [
    "num_clicks(p1)"
   ]
  },
  {
   "cell_type": "markdown",
   "metadata": {},
   "source": [
    "## RQ4"
   ]
  },
  {
   "cell_type": "markdown",
   "metadata": {},
   "source": [
    "**In the following cells there is a modification of the dictionary keys for further operations**"
   ]
  },
  {
   "cell_type": "code",
   "execution_count": 42,
   "metadata": {},
   "outputs": [],
   "source": [
    "d=mod.transform_dict(categories_file_filtered)\n"
   ]
  },
  {
   "cell_type": "markdown",
   "metadata": {},
   "source": [
    "**in this cell two categories are asked in input** "
   ]
  },
  {
   "cell_type": "code",
   "execution_count": 43,
   "metadata": {},
   "outputs": [
    {
     "name": "stdout",
     "output_type": "stream",
     "text": [
      "insert the first category: American films\n",
      "insert the second category: American film actors\n"
     ]
    }
   ],
   "source": [
    "all_pages=mod.categories_input(d)"
   ]
  },
  {
   "cell_type": "code",
   "execution_count": 182,
   "metadata": {},
   "outputs": [
    {
     "name": "stdout",
     "output_type": "stream",
     "text": [
      "[147467, 1753103, 1245201, 688149, 1245208, 639007, 655392, 147492, 639014, 1163309, 1654833, 1065009, 1163315, 147508, 1261624, 1507388, 1048638, 1245249, 1163330, 1130568, 1163338, 1065036, 1163340, 1245264, 1048660, 1163348, 1163358, 1261665, 295016, 901225, 1245290, 688249, 1245310, 1048703, 1065090, 393356, 1245326, 770192, 1048722, 770194, 1622164, 1048723, 1048735, 1163425, 1065124, 688292, 1245348, 1048745, 688300, 173, 1245363, 1065142, 1065144, 1245370, 1130683, 1163453, 1163455, 901316, 1163462, 1245384, 1130702, 1245393, 1048787, 901335, 1048792, 1048798, 1065184, 393440, 1065187, 1130724, 1179875, 1278182, 1261800, 1179883, 1163501, 1163504, 1065201, 1278194, 1048819, 147699, 147705, 475387, 1163520, 1376513, 311554, 1278213, 1163525, 1261832, 213258, 1065228, 1179925, 1065238, 1048855, 1048857, 344345, 213277, 639262, 1163554, 1278246]\n"
     ]
    }
   ],
   "source": [
    "print(all_pages[1:100])\n"
   ]
  },
  {
   "cell_type": "code",
   "execution_count": 45,
   "metadata": {},
   "outputs": [],
   "source": [
    "#in the following cell, when the page is asked in input, please insert all characters in lower case."
   ]
  },
  {
   "cell_type": "code",
   "execution_count": 147,
   "metadata": {},
   "outputs": [
    {
     "name": "stdout",
     "output_type": "stream",
     "text": [
      "insert the first page victor lundin\n",
      "insert the second page the lion and the lamb\n"
     ]
    }
   ],
   "source": [
    "input_pages=mod.input_pages(all_pages,page_names)"
   ]
  },
  {
   "cell_type": "markdown",
   "metadata": {},
   "source": [
    "**creating the out_degree subgraph of the two categories given in input. This graph will include only pages which belong to the two categories**"
   ]
  },
  {
   "cell_type": "code",
   "execution_count": 47,
   "metadata": {},
   "outputs": [],
   "source": [
    "out_d=mod.out_subgraph(all_pages,out_degree,d)"
   ]
  },
  {
   "cell_type": "code",
   "execution_count": 48,
   "metadata": {},
   "outputs": [],
   "source": [
    "#out_d"
   ]
  },
  {
   "cell_type": "markdown",
   "metadata": {},
   "source": [
    "**creating the in_degree subgraph of the two categories given in input. This graph will include only pages which belong to the two categories**"
   ]
  },
  {
   "cell_type": "code",
   "execution_count": 49,
   "metadata": {},
   "outputs": [],
   "source": [
    "in_d=mod.in_subgraph(all_pages,in_degree,d)"
   ]
  },
  {
   "cell_type": "code",
   "execution_count": 50,
   "metadata": {},
   "outputs": [],
   "source": [
    "#in_d"
   ]
  },
  {
   "cell_type": "markdown",
   "metadata": {},
   "source": [
    "**in this section, for each couple of pages taken into account, it will be found the minimum set of pages to remove in order disconnect the two pages**"
   ]
  },
  {
   "cell_type": "markdown",
   "metadata": {},
   "source": [
    "*test1 using two random pages*"
   ]
  },
  {
   "cell_type": "code",
   "execution_count": 183,
   "metadata": {},
   "outputs": [
    {
     "name": "stdout",
     "output_type": "stream",
     "text": [
      "1269487\n",
      "1162576\n",
      "start page is: The Prisoner of Shark Island\n",
      "end page is: Jeff York\n"
     ]
    }
   ],
   "source": [
    "first_page=random.choice(all_pages)\n",
    "print(first_page)\n",
    "\n",
    "second_page=random.choice(all_pages)\n",
    "print(second_page)\n",
    "\n",
    "print(f'start page is: {page_names[first_page]}')\n",
    "\n",
    "print(f'end page is: {page_names[second_page]}')"
   ]
  },
  {
   "cell_type": "markdown",
   "metadata": {},
   "source": [
    "*obtaining parents for the first page*"
   ]
  },
  {
   "cell_type": "code",
   "execution_count": 184,
   "metadata": {},
   "outputs": [
    {
     "data": {
      "text/plain": [
       "[1665158]"
      ]
     },
     "execution_count": 184,
     "metadata": {},
     "output_type": "execute_result"
    }
   ],
   "source": [
    "parents_1=in_d[first_page]\n",
    "parents_1"
   ]
  },
  {
   "cell_type": "markdown",
   "metadata": {},
   "source": [
    "*obtaining parents for the second page*"
   ]
  },
  {
   "cell_type": "code",
   "execution_count": 185,
   "metadata": {},
   "outputs": [
    {
     "data": {
      "text/plain": [
       "[1048953, 1049383, 1247237]"
      ]
     },
     "execution_count": 185,
     "metadata": {},
     "output_type": "execute_result"
    }
   ],
   "source": [
    "parents_2=in_d[second_page]\n",
    "parents_2"
   ]
  },
  {
   "cell_type": "markdown",
   "metadata": {},
   "source": [
    "*for each neighbour of the first page and of the second page it is calculated wheter it is connected with the end page or not. if there is no connection, the neighbour is not added to the set of pages to remove. Otherwise, if there exist a path between them, the neighbour will be added to the set to remove.*"
   ]
  },
  {
   "cell_type": "code",
   "execution_count": 186,
   "metadata": {},
   "outputs": [
    {
     "data": {
      "text/plain": [
       "{1665158: 'connected',\n",
       " 1048953: 'connected',\n",
       " 1049383: 'connected',\n",
       " 1247237: 'connected'}"
      ]
     },
     "execution_count": 186,
     "metadata": {},
     "output_type": "execute_result"
    }
   ],
   "source": [
    "d_parents={}\n",
    "for parent in parents_1:\n",
    "\n",
    "    d_parents[parent]=mod.links_remove(in_d,parent,second_page)\n",
    "    \n",
    "for parent in parents_2:\n",
    "    \n",
    "    d_parents[parent]=mod.links_remove(in_d,parent,first_page)\n",
    "    \n",
    "d_parents"
   ]
  },
  {
   "cell_type": "code",
   "execution_count": 187,
   "metadata": {},
   "outputs": [
    {
     "name": "stdout",
     "output_type": "stream",
     "text": [
      "the minimum set of nodes to remove in order to disconnect the two pages is  [1665158, 1048953, 1049383, 1247237]\n"
     ]
    }
   ],
   "source": [
    "pages_to_remove=[]\n",
    "\n",
    "for key,value in d_parents.items():\n",
    "    \n",
    "    if value=='connected':\n",
    "        \n",
    "        pages_to_remove.append(key)\n",
    "        \n",
    "if len(pages_to_remove)>0:\n",
    "        \n",
    "    print('the minimum set of nodes to remove in order to disconnect the two pages is ',pages_to_remove)\n",
    "    \n",
    "else:\n",
    "    print('there are no connections among the two pages, so there is no set to remove')"
   ]
  },
  {
   "cell_type": "markdown",
   "metadata": {},
   "source": [
    "*test 2 using input pages*"
   ]
  },
  {
   "cell_type": "code",
   "execution_count": 177,
   "metadata": {},
   "outputs": [],
   "source": [
    "first_input=input_pages[0]\n",
    "second_input=input_pages[1]"
   ]
  },
  {
   "cell_type": "code",
   "execution_count": 178,
   "metadata": {},
   "outputs": [
    {
     "data": {
      "text/plain": [
       "[1049163]"
      ]
     },
     "execution_count": 178,
     "metadata": {},
     "output_type": "execute_result"
    }
   ],
   "source": [
    "parents_1=in_d[first_input]\n",
    "parents_1"
   ]
  },
  {
   "cell_type": "code",
   "execution_count": 179,
   "metadata": {},
   "outputs": [
    {
     "data": {
      "text/plain": [
       "[1265864, 1268174, 1270312]"
      ]
     },
     "execution_count": 179,
     "metadata": {},
     "output_type": "execute_result"
    }
   ],
   "source": [
    "parents_2=in_d[second_input]\n",
    "parents_2"
   ]
  },
  {
   "cell_type": "code",
   "execution_count": 180,
   "metadata": {},
   "outputs": [
    {
     "data": {
      "text/plain": [
       "{1049163: 'connected',\n",
       " 1265864: 'the starting page is connected with itself',\n",
       " 1268174: 'the starting page is connected with itself',\n",
       " 1270312: 'the first page has no connections among the pages of the two categories considered'}"
      ]
     },
     "execution_count": 180,
     "metadata": {},
     "output_type": "execute_result"
    }
   ],
   "source": [
    "d_parents={}\n",
    "for parent in parents_1:\n",
    "\n",
    "    d_parents[parent]=mod.links_remove(in_d,parent,second_page)\n",
    "    \n",
    "for parent in parents_2:\n",
    "    \n",
    "    d_parents[parent]=mod.links_remove(in_d,parent,first_page)\n",
    "    \n",
    "d_parents"
   ]
  },
  {
   "cell_type": "code",
   "execution_count": 181,
   "metadata": {},
   "outputs": [
    {
     "name": "stdout",
     "output_type": "stream",
     "text": [
      "the minimum set of nodes to remove in order to disconnect the two pages is  [1049163]\n"
     ]
    }
   ],
   "source": [
    "pages_to_remove=[]\n",
    "\n",
    "for key,value in d_parents.items():\n",
    "    \n",
    "    if value=='connected':\n",
    "        \n",
    "        pages_to_remove.append(key)\n",
    "        \n",
    "if len(pages_to_remove)>0:\n",
    "        \n",
    "    print('the minimum set of nodes to remove in order to disconnect the two pages is ',pages_to_remove)\n",
    "    \n",
    "else:\n",
    "    print('there are no connections among the two pages, so there is no set to remove')"
   ]
  },
  {
   "cell_type": "markdown",
   "metadata": {},
   "source": [
    "## Rq5"
   ]
  },
  {
   "cell_type": "code",
   "execution_count": 153,
   "metadata": {},
   "outputs": [],
   "source": [
    "#categories_file_filtered.keys()"
   ]
  },
  {
   "cell_type": "code",
   "execution_count": 154,
   "metadata": {},
   "outputs": [
    {
     "name": "stdout",
     "output_type": "stream",
     "text": [
      "insert a category American FILMSS actors\n",
      "the category you are looking for is not in the categories considered or you wrote wrongly.\n",
      "press any character if you want to continue, otherwise press a digit g\n",
      "insert a category AMERICAN FILM ACTORS\n"
     ]
    }
   ],
   "source": [
    "input_cat=mod.cat_input(d)"
   ]
  },
  {
   "cell_type": "code",
   "execution_count": 159,
   "metadata": {},
   "outputs": [],
   "source": [
    "new_lista=d[input_cat]\n",
    "#print('the pages relative to the input category are: ')\n",
    "#for number in new_lista:\n",
    "    \n",
    "    #print(page_names[number])"
   ]
  },
  {
   "cell_type": "code",
   "execution_count": 160,
   "metadata": {},
   "outputs": [],
   "source": [
    "d_cat={key:[] for key in categories_file_filtered.keys()}\n",
    "\n",
    "#d_cat"
   ]
  },
  {
   "cell_type": "markdown",
   "metadata": {},
   "source": [
    "**in the following function will be used the previous dictionary, where each key is a category name, in order to store the distances from each page of the category input to the other pages of the other categories. For each key there will be an empty list if there are no links at all between the two categories or a list of distances among the single pages in the two categories**"
   ]
  },
  {
   "cell_type": "code",
   "execution_count": 161,
   "metadata": {},
   "outputs": [
    {
     "name": "stderr",
     "output_type": "stream",
     "text": [
      "100%|██████████| 2861/2861 [20:50<00:00,  2.29it/s]\n"
     ]
    }
   ],
   "source": [
    "d_cat=mod.dictionary_distances(mod.cat_distance,in_degree,new_lista,categories_filtered,d_cat)"
   ]
  },
  {
   "cell_type": "markdown",
   "metadata": {},
   "source": [
    "**computing the median distance between category input and the others categories**"
   ]
  },
  {
   "cell_type": "code",
   "execution_count": 162,
   "metadata": {},
   "outputs": [],
   "source": [
    "d_result=mod.median(d_cat)"
   ]
  },
  {
   "cell_type": "markdown",
   "metadata": {},
   "source": [
    "**showing the categories distances from the input category, ordered by median**"
   ]
  },
  {
   "cell_type": "code",
   "execution_count": 163,
   "metadata": {},
   "outputs": [
    {
     "data": {
      "text/plain": [
       "People_from_Odessa                                 2.0\n",
       "Fandom                                             2.0\n",
       "American_people_of_Ukrainian-Jewish_descent        3.0\n",
       "Harvard_University_people                          3.0\n",
       "United_States_Navy_officers                        3.0\n",
       "American_conservationists                          3.0\n",
       "Australian_people_of_Irish_descent                 3.0\n",
       "American_documentary_filmmakers                    3.0\n",
       "American_people_of_Romanian-Jewish_descent         3.0\n",
       "American_hip_hop_musicians                         3.0\n",
       "American_health_activists                          3.0\n",
       "People_from_Waco,_Texas                            3.0\n",
       "History_of_the_United_States_(18651918)            4.0\n",
       "Writers_from_Chicago,_Illinois                     4.0\n",
       "American_anti-communists                           4.0\n",
       "American_people_of_Hungarian-Jewish_descent        4.0\n",
       "Emmy_Award_winners                                 4.0\n",
       "United_States_National_Medal_of_Arts_recipients    4.0\n",
       "American_people_of_Armenian_descent                4.0\n",
       "English_child_actors                               4.0\n",
       "Films_shot_in_California                           4.0\n",
       "Parachuting                                        4.0\n",
       "Action_comedy_films                                4.0\n",
       "American_sex_comedy_films                          4.0\n",
       "University_of_Florida_alumni                       4.0\n",
       "Anglophone_Quebec_people                           4.0\n",
       "Films_set_in_the_1910s                             4.0\n",
       "People_from_Galveston,_Texas                       4.0\n",
       "American_satirical_films                           4.0\n",
       "University_of_Maryland,_College_Park_alumni        4.0\n",
       "dtype: float64"
      ]
     },
     "execution_count": 163,
     "metadata": {},
     "output_type": "execute_result"
    }
   ],
   "source": [
    "series=pd.Series(data=d_result).sort_values()\n",
    "series.head(30)"
   ]
  },
  {
   "cell_type": "code",
   "execution_count": 164,
   "metadata": {},
   "outputs": [
    {
     "data": {
      "text/plain": [
       "Lyngby_Boldklub_players                  11.0\n",
       "Royal_Antwerp_FC_players                 11.0\n",
       "Toluca_footballers                       11.0\n",
       "Pescara_Calcio_players                   11.5\n",
       "People_from_Plymouth                     12.0\n",
       "A.S._Varese_1910_players                 12.0\n",
       "A.C._Reggiana_1919_players               12.0\n",
       "American_soccer_coaches                  12.0\n",
       "2005_CONCACAF_Gold_Cup_players           12.0\n",
       "Perth_Glory_FC_players                   12.0\n",
       "F.C._Crotone_players                     12.0\n",
       "U.S._Avellino_players                    12.0\n",
       "A.S._Bari_players                        12.0\n",
       "A.C._Siena_players                       13.0\n",
       "Alumni_of_the_University_of_Sussex       13.0\n",
       "South_Korea_international_footballers    13.0\n",
       "People_from_Genoa_(city)                 13.0\n",
       "Expatriate_footballers_in_Poland         13.0\n",
       "South_Korean_expatriate_footballers      13.0\n",
       "V2_Records_albums                        13.0\n",
       "Jazz_fusion_albums                       13.0\n",
       "1._FC_Kln_players                        13.0\n",
       "Olympic_footballers_of_Japan             13.0\n",
       "Ternana_Calcio_players                   14.0\n",
       "Deportivo_Alavs_footballers              14.0\n",
       "People_from_Naples                       14.0\n",
       "Decca_Records_albums                     14.0\n",
       "Slovenian_footballers                    15.0\n",
       "Colombian_expatriate_footballers         16.0\n",
       "dtype: float64"
      ]
     },
     "execution_count": 164,
     "metadata": {},
     "output_type": "execute_result"
    }
   ],
   "source": [
    "series[-30:-1]"
   ]
  },
  {
   "cell_type": "code",
   "execution_count": 165,
   "metadata": {},
   "outputs": [
    {
     "data": {
      "text/plain": [
       "count    3795.000000\n",
       "mean        6.210277\n",
       "std         1.695734\n",
       "min         2.000000\n",
       "25%         5.000000\n",
       "50%         6.000000\n",
       "75%         7.000000\n",
       "max        17.000000\n",
       "dtype: float64"
      ]
     },
     "execution_count": 165,
     "metadata": {},
     "output_type": "execute_result"
    }
   ],
   "source": [
    "series.describe()"
   ]
  },
  {
   "cell_type": "code",
   "execution_count": 166,
   "metadata": {},
   "outputs": [
    {
     "data": {
      "image/png": "[encoded data removed]",
      "text/plain": [
       "<Figure size 1296x2592 with 1 Axes>"
      ]
     },
     "metadata": {
      "needs_background": "light"
     },
     "output_type": "display_data"
    }
   ],
   "source": [
    "plt.figure(figsize=(18,36))\n",
    "\n",
    "plt.title('histogram of the median from the category input')\n",
    "\n",
    "plt.hist(series,color='orange',bins=35)\n",
    "\n",
    "plt.xlabel('median value')\n",
    "\n",
    "plt.xticks(np.arange(0,np.max(series)+1,0.5))\n",
    "\n",
    "plt.yticks(np.arange(0,5000,100))\n",
    "\n",
    "plt.ylabel('number of categories')\n",
    "\n",
    "\n",
    "plt.show()"
   ]
  },
  {
   "cell_type": "markdown",
   "metadata": {},
   "source": [
    "## RQ6"
   ]
  },
  {
   "cell_type": "code",
   "execution_count": 168,
   "metadata": {},
   "outputs": [],
   "source": [
    "out = mod.sort_categories(categories_file_filtered)"
   ]
  },
  {
   "cell_type": "code",
   "execution_count": 171,
   "metadata": {},
   "outputs": [
    {
     "data": {
      "text/plain": [
       "['S-type_asteroids',\n",
       " 'A-League_players',\n",
       " 'K-League_players',\n",
       " 'C-type_asteroids',\n",
       " 'F.B.C._Unione_Venezia_players',\n",
       " 'A.C._Cesena_players',\n",
       " 'F.C._Atlas_players',\n",
       " 'J._League_Division_1_players',\n",
       " 'U.S._Route_9',\n",
       " 'A.S._Lucchese-Libertas_players',\n",
       " '1._FC_Kln_players',\n",
       " 'A.C._Reggiana_1919_players',\n",
       " 'R._Charleroi_S.C._players',\n",
       " 'A.C._Milan_players',\n",
       " 'S.S._Lazio_players',\n",
       " 'A.C._Ancona_players',\n",
       " 'S.C._Braga_players',\n",
       " 'K.R.C._Genk_players',\n",
       " 'F.C._Copenhagen_players',\n",
       " 'K._Lierse_S.K._players',\n",
       " 'F.C._Crotone_players',\n",
       " 'C.D._Nacional_players',\n",
       " 'G.D._Estoril-Praia_players',\n",
       " 'A.S._Roma_players',\n",
       " 'A.C._Siena_players',\n",
       " 'K.S.C._Lokeren_Oost-Vlaanderen_players',\n",
       " 'A.C._ChievoVerona_players',\n",
       " 'J._League_players',\n",
       " 'C.A._Pearol_players',\n",
       " 'U.S._Avellino_players',\n",
       " 'C.F._Pachuca_players',\n",
       " 'K.A.A._Gent_players',\n",
       " 'C.F._Os_Belenenses_players',\n",
       " 'A.F.C._Bournemouth_players',\n",
       " 'U.D._Leiria_players',\n",
       " 'U.C._Sampdoria_players',\n",
       " 'A.C._Pistoiese_players',\n",
       " 'A.C._Monza_Brianza_1912_players',\n",
       " 'A.S._Bari_players',\n",
       " 'D.C._United_players',\n",
       " 'F.C._Messina_Peloro_players',\n",
       " '1._FC_Kaiserslautern_players',\n",
       " 'S.C._Beira-Mar_players',\n",
       " 'U.S._Triestina_Calcio_players',\n",
       " 'U.S._Cremonese_players',\n",
       " 'R.S.C._Anderlecht_players',\n",
       " 'F.C._Porto_players',\n",
       " 'C.S._Martimo_players',\n",
       " 'U.S._Foggia_players',\n",
       " 'A.C._Arezzo_players',\n",
       " 'A.C._Mantova_players',\n",
       " 'F.C._Internazionale_Milano_players',\n",
       " '1._FC_Nuremberg_players',\n",
       " 'S.L._Benfica_footballers',\n",
       " '1._FC_Union_Berlin_players',\n",
       " 'S.S.C._Napoli_players',\n",
       " 'U.S._Alessandria_Calcio_1912_players',\n",
       " 'U.S._Lecce_players',\n",
       " '1._FSV_Mainz_05_players',\n",
       " 'A.S._Varese_1910_players',\n",
       " 'U.S._Citt_di_Palermo_players',\n",
       " 'F.C._Paos_de_Ferreira_players',\n",
       " '2004_AFC_Asian_Cup_players',\n",
       " '2009_CONCACAF_Gold_Cup_players',\n",
       " '2010s_drama_films',\n",
       " '20th-century_Anglican_archbishops',\n",
       " '2007_video_albums',\n",
       " '2000s_horror_films',\n",
       " '20th-century_deaths',\n",
       " '2000_films',\n",
       " '2008_video_albums',\n",
       " '2006_World_Baseball_Classic_players',\n",
       " '2000s_science_fiction_films',\n",
       " '2010s_action_films',\n",
       " '2010s_horror_films',\n",
       " '2000s_Malayalam-language_films',\n",
       " '20th-century_astronomers',\n",
       " '20th-century_Roman_Catholics',\n",
       " '2003_FIFA_Confederations_Cup_players',\n",
       " '2011_CONCACAF_Gold_Cup_players',\n",
       " '2010s_3-D_films',\n",
       " '2000s_American_television_series',\n",
       " '2000s_musical_films',\n",
       " '2000_African_Cup_of_Nations_players',\n",
       " '2000_deaths',\n",
       " '2009_television_films',\n",
       " '2000s_comedy-drama_films',\n",
       " '2001_Copa_Amrica_players',\n",
       " '2007_CONCACAF_Gold_Cup_players',\n",
       " '2005_CONCACAF_Gold_Cup_players',\n",
       " '2004_African_Cup_of_Nations_players',\n",
       " '2000s_thriller_films',\n",
       " '2004_films',\n",
       " '2006_FIFA_World_Cup_players',\n",
       " '2001_FIFA_Confederations_Cup_players',\n",
       " '20th-century_novelists',\n",
       " '2003_CONCACAF_Gold_Cup_players',\n",
       " '2002_films',\n",
       " '20th-century_Mesoamericanists']"
      ]
     },
     "execution_count": 171,
     "metadata": {},
     "output_type": "execute_result"
    }
   ],
   "source": [
    "out[1:100]"
   ]
  }
 ],
 "metadata": {
  "kernelspec": {
   "display_name": "Python 3",
   "language": "python",
   "name": "python3"
  },
  "language_info": {
   "codemirror_mode": {
    "name": "ipython",
    "version": 3
   },
   "file_extension": ".py",
   "mimetype": "text/x-python",
   "name": "python",
   "nbconvert_exporter": "python",
   "pygments_lexer": "ipython3",
   "version": "3.8.5"
  }
 },
 "nbformat": 4,
 "nbformat_minor": 4
}
