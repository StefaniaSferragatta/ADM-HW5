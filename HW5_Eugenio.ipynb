{
 "cells": [
  {
   "cell_type": "code",
   "execution_count": 1,
   "metadata": {},
   "outputs": [],
   "source": [
    "import pandas as pd\n",
    "import matplotlib.pyplot as plt\n",
    "import re"
   ]
  },
  {
   "cell_type": "code",
   "execution_count": null,
   "metadata": {},
   "outputs": [],
   "source": []
  },
  {
   "cell_type": "markdown",
   "metadata": {},
   "source": [
    "Import the dataset"
   ]
  },
  {
   "cell_type": "code",
   "execution_count": 2,
   "metadata": {},
   "outputs": [],
   "source": [
    "dataset = pd.read_csv('wikigraph_reduced.csv', sep='\\t', \n",
    "                      delimiter=None, header='infer',\n",
    "                      names=None, index_col=None, \n",
    "                      usecols=None, \n",
    "                      encoding = \"ISO-8859-1\")"
   ]
  },
  {
   "cell_type": "code",
   "execution_count": 3,
   "metadata": {},
   "outputs": [
    {
     "data": {
      "text/html": [
       "<div>\n",
       "<style scoped>\n",
       "    .dataframe tbody tr th:only-of-type {\n",
       "        vertical-align: middle;\n",
       "    }\n",
       "\n",
       "    .dataframe tbody tr th {\n",
       "        vertical-align: top;\n",
       "    }\n",
       "\n",
       "    .dataframe thead th {\n",
       "        text-align: right;\n",
       "    }\n",
       "</style>\n",
       "<table border=\"1\" class=\"dataframe\">\n",
       "  <thead>\n",
       "    <tr style=\"text-align: right;\">\n",
       "      <th></th>\n",
       "      <th>Unnamed: 0</th>\n",
       "      <th>0</th>\n",
       "      <th>1</th>\n",
       "    </tr>\n",
       "  </thead>\n",
       "  <tbody>\n",
       "    <tr>\n",
       "      <th>0</th>\n",
       "      <td>796</td>\n",
       "      <td>95</td>\n",
       "      <td>1185516</td>\n",
       "    </tr>\n",
       "    <tr>\n",
       "      <th>1</th>\n",
       "      <td>909</td>\n",
       "      <td>108</td>\n",
       "      <td>1059989</td>\n",
       "    </tr>\n",
       "    <tr>\n",
       "      <th>2</th>\n",
       "      <td>910</td>\n",
       "      <td>108</td>\n",
       "      <td>1062426</td>\n",
       "    </tr>\n",
       "    <tr>\n",
       "      <th>3</th>\n",
       "      <td>911</td>\n",
       "      <td>108</td>\n",
       "      <td>1161925</td>\n",
       "    </tr>\n",
       "    <tr>\n",
       "      <th>4</th>\n",
       "      <td>1141</td>\n",
       "      <td>134</td>\n",
       "      <td>541222</td>\n",
       "    </tr>\n",
       "  </tbody>\n",
       "</table>\n",
       "</div>"
      ],
      "text/plain": [
       "   Unnamed: 0    0        1\n",
       "0         796   95  1185516\n",
       "1         909  108  1059989\n",
       "2         910  108  1062426\n",
       "3         911  108  1161925\n",
       "4        1141  134   541222"
      ]
     },
     "execution_count": 3,
     "metadata": {},
     "output_type": "execute_result"
    }
   ],
   "source": [
    "dataset.head()"
   ]
  },
  {
   "cell_type": "code",
   "execution_count": 4,
   "metadata": {},
   "outputs": [
    {
     "data": {
      "text/plain": [
       "Index(['Unnamed: 0', '0', '1'], dtype='object')"
      ]
     },
     "execution_count": 4,
     "metadata": {},
     "output_type": "execute_result"
    }
   ],
   "source": [
    "dataset.columns"
   ]
  },
  {
   "cell_type": "markdown",
   "metadata": {},
   "source": [
    "Change the columns name; 0 is the **source** and 1 is the **target**"
   ]
  },
  {
   "cell_type": "code",
   "execution_count": 5,
   "metadata": {},
   "outputs": [],
   "source": [
    "dataset.columns=['Index','Source','Target']"
   ]
  },
  {
   "cell_type": "markdown",
   "metadata": {},
   "source": [
    "Make the first column the index"
   ]
  },
  {
   "cell_type": "code",
   "execution_count": 6,
   "metadata": {
    "scrolled": true
   },
   "outputs": [],
   "source": [
    "dataset.set_index('Index' , inplace = True)"
   ]
  },
  {
   "cell_type": "code",
   "execution_count": 7,
   "metadata": {},
   "outputs": [
    {
     "data": {
      "text/html": [
       "<div>\n",
       "<style scoped>\n",
       "    .dataframe tbody tr th:only-of-type {\n",
       "        vertical-align: middle;\n",
       "    }\n",
       "\n",
       "    .dataframe tbody tr th {\n",
       "        vertical-align: top;\n",
       "    }\n",
       "\n",
       "    .dataframe thead th {\n",
       "        text-align: right;\n",
       "    }\n",
       "</style>\n",
       "<table border=\"1\" class=\"dataframe\">\n",
       "  <thead>\n",
       "    <tr style=\"text-align: right;\">\n",
       "      <th></th>\n",
       "      <th>Source</th>\n",
       "      <th>Target</th>\n",
       "    </tr>\n",
       "    <tr>\n",
       "      <th>Index</th>\n",
       "      <th></th>\n",
       "      <th></th>\n",
       "    </tr>\n",
       "  </thead>\n",
       "  <tbody>\n",
       "    <tr>\n",
       "      <th>796</th>\n",
       "      <td>95</td>\n",
       "      <td>1185516</td>\n",
       "    </tr>\n",
       "    <tr>\n",
       "      <th>909</th>\n",
       "      <td>108</td>\n",
       "      <td>1059989</td>\n",
       "    </tr>\n",
       "    <tr>\n",
       "      <th>910</th>\n",
       "      <td>108</td>\n",
       "      <td>1062426</td>\n",
       "    </tr>\n",
       "    <tr>\n",
       "      <th>911</th>\n",
       "      <td>108</td>\n",
       "      <td>1161925</td>\n",
       "    </tr>\n",
       "    <tr>\n",
       "      <th>1141</th>\n",
       "      <td>134</td>\n",
       "      <td>541222</td>\n",
       "    </tr>\n",
       "  </tbody>\n",
       "</table>\n",
       "</div>"
      ],
      "text/plain": [
       "       Source   Target\n",
       "Index                 \n",
       "796        95  1185516\n",
       "909       108  1059989\n",
       "910       108  1062426\n",
       "911       108  1161925\n",
       "1141      134   541222"
      ]
     },
     "execution_count": 7,
     "metadata": {},
     "output_type": "execute_result"
    }
   ],
   "source": [
    "dataset.head()"
   ]
  },
  {
   "cell_type": "markdown",
   "metadata": {},
   "source": [
    "### RQ1. Create the graph\n",
    "Create two dictionaries for the nodes of the graph; one is for the indegree node, the other one is for the outdegree node. Note that the dictionaries contain the unique element."
   ]
  },
  {
   "cell_type": "code",
   "execution_count": 8,
   "metadata": {},
   "outputs": [],
   "source": [
    "in_degree = {v: [] for v in set(dataset.Source)}\n",
    "out_degree = {v: [] for v in set(dataset.Target)}"
   ]
  },
  {
   "cell_type": "code",
   "execution_count": 9,
   "metadata": {},
   "outputs": [],
   "source": [
    "for row in dataset.iterrows():\n",
    "    source = row[1][0]\n",
    "    target = row[1][1]\n",
    "    in_degree[source].append(target)\n",
    "    out_degree[target].append(source)"
   ]
  },
  {
   "cell_type": "code",
   "execution_count": 10,
   "metadata": {},
   "outputs": [
    {
     "data": {
      "text/plain": [
       "[1059989, 1062426, 1161925]"
      ]
     },
     "execution_count": 10,
     "metadata": {},
     "output_type": "execute_result"
    }
   ],
   "source": [
    "in_degree[108]"
   ]
  },
  {
   "cell_type": "markdown",
   "metadata": {},
   "source": [
    "Visualize how many indegree and outdegree has the graph"
   ]
  },
  {
   "cell_type": "code",
   "execution_count": 11,
   "metadata": {},
   "outputs": [
    {
     "name": "stdout",
     "output_type": "stream",
     "text": [
      "75467\n"
     ]
    }
   ],
   "source": [
    "n_art_outlink = len(out_degree)\n",
    "print(n_art_outlink)"
   ]
  },
  {
   "cell_type": "code",
   "execution_count": 12,
   "metadata": {
    "scrolled": true
   },
   "outputs": [
    {
     "name": "stdout",
     "output_type": "stream",
     "text": [
      "90920\n"
     ]
    }
   ],
   "source": [
    "n_art_inlink = len(in_degree)\n",
    "print(n_art_inlink)"
   ]
  },
  {
   "cell_type": "markdown",
   "metadata": {},
   "source": [
    "#### Is the graph directed?"
   ]
  },
  {
   "cell_type": "code",
   "execution_count": 13,
   "metadata": {},
   "outputs": [
    {
     "name": "stdout",
     "output_type": "stream",
     "text": [
      "The graph is directed\n"
     ]
    }
   ],
   "source": [
    "if (len(set(dataset.Source).intersection(set(dataset.Target)))!=0):\n",
    "     print ('The graph is directed')\n",
    "    "
   ]
  },
  {
   "cell_type": "markdown",
   "metadata": {},
   "source": [
    "#### How many articles are we considering?"
   ]
  },
  {
   "cell_type": "code",
   "execution_count": 14,
   "metadata": {
    "scrolled": true
   },
   "outputs": [
    {
     "name": "stdout",
     "output_type": "stream",
     "text": [
      "98343\n"
     ]
    }
   ],
   "source": [
    "nodes = set(dataset.Source).union(set(dataset.Target))\n",
    "n_nodes = len(nodes)\n",
    "print(n_nodes)"
   ]
  },
  {
   "cell_type": "markdown",
   "metadata": {},
   "source": [
    "#### How many hyperlinks between pages exist?"
   ]
  },
  {
   "cell_type": "code",
   "execution_count": 15,
   "metadata": {
    "scrolled": true
   },
   "outputs": [
    {
     "name": "stdout",
     "output_type": "stream",
     "text": [
      "483094\n"
     ]
    }
   ],
   "source": [
    "n_edges = len(dataset)\n",
    "print(n_edges)"
   ]
  },
  {
   "cell_type": "markdown",
   "metadata": {},
   "source": [
    "#### Compute the average number of links in an arbitrary page"
   ]
  },
  {
   "cell_type": "code",
   "execution_count": 16,
   "metadata": {},
   "outputs": [
    {
     "name": "stdout",
     "output_type": "stream",
     "text": [
      "5\n"
     ]
    }
   ],
   "source": [
    "import numpy as np\n",
    "\n",
    "n_outlinks = []\n",
    "for node in nodes:\n",
    "    try:\n",
    "        out_deg = len(out_degree[node])\n",
    "    except:\n",
    "        out_deg = 0\n",
    "    n_outlinks.append(out_deg)\n",
    "avg_outlink = np.mean(n_outlinks)\n",
    "print(round(avg_outlink))"
   ]
  },
  {
   "cell_type": "markdown",
   "metadata": {},
   "source": [
    "#### What is the graph density?\n",
    "For directed graph the density is given by: $\\frac{|E|}{|V|(|V|-1)}$\n",
    "\n"
   ]
  },
  {
   "cell_type": "code",
   "execution_count": 17,
   "metadata": {},
   "outputs": [
    {
     "name": "stdout",
     "output_type": "stream",
     "text": [
      "4.9951571365597335e-05\n"
     ]
    }
   ],
   "source": [
    "density = (n_edges/(n_nodes*(n_nodes-1)))\n",
    "print(density)"
   ]
  },
  {
   "cell_type": "markdown",
   "metadata": {},
   "source": [
    "#### The graph is dense or sparse?"
   ]
  },
  {
   "cell_type": "code",
   "execution_count": 18,
   "metadata": {},
   "outputs": [
    {
     "name": "stdout",
     "output_type": "stream",
     "text": [
      "Max number of edges: 9671345649\n",
      "Number of edges:  483094\n"
     ]
    }
   ],
   "source": [
    "print('Max number of edges:',n_nodes**2)\n",
    "print('Number of edges: ',n_edges)"
   ]
  },
  {
   "cell_type": "markdown",
   "metadata": {},
   "source": [
    "The graph is sparse."
   ]
  },
  {
   "cell_type": "markdown",
   "metadata": {},
   "source": [
    "#### Visualize the nodes' degree distribution [To complete]"
   ]
  },
  {
   "cell_type": "code",
   "execution_count": 19,
   "metadata": {},
   "outputs": [],
   "source": [
    "connections = []\n",
    "for node in nodes:\n",
    "    try:\n",
    "        in_deg = len(in_degree[node])\n",
    "    except:\n",
    "        in_deg = 0\n",
    "    try:\n",
    "        out_deg = len(out_degree[node])\n",
    "    except:\n",
    "        out_deg = 0\n",
    "    connections.append(in_deg+out_deg)"
   ]
  },
  {
   "cell_type": "code",
   "execution_count": 20,
   "metadata": {},
   "outputs": [],
   "source": [
    "series=pd.Series(connections)\n",
    "\n",
    "degrees=series.groupby(by=connections).count()\n",
    "d_sum=np.sum(degrees)\n",
    "degrees=degrees[0:50]   # the first 50 degrees values are enough to give a true representation\n",
    "degrees=degrees/d_sum\n",
    "\n",
    "\n",
    "degrees_sum=0\n",
    "\n",
    "cdf_list=[]\n",
    "\n",
    "\n",
    "for x in degrees:\n",
    "    \n",
    "    \n",
    "    degrees_sum=(degrees_sum+x)\n",
    "    \n",
    "    \n",
    "    cdf_list.append(degrees_sum)\n",
    "    "
   ]
  },
  {
   "cell_type": "code",
   "execution_count": 25,
   "metadata": {},
   "outputs": [
    {
     "data": {
      "text/plain": [
       "<BarContainer object of 50 artists>"
      ]
     },
     "execution_count": 25,
     "metadata": {},
     "output_type": "execute_result"
    },
    {
     "data": {
      "image/png": "[encoded data removed]",
      "text/plain": [
       "<Figure size 1152x648 with 1 Axes>"
      ]
     },
     "metadata": {
      "needs_background": "light"
     },
     "output_type": "display_data"
    },
    {
     "data": {
      "image/png": "[encoded data removed]",
      "text/plain": [
       "<Figure size 1152x648 with 1 Axes>"
      ]
     },
     "metadata": {
      "needs_background": "light"
     },
     "output_type": "display_data"
    }
   ],
   "source": [
    "plt.figure(figsize=(16,9))\n",
    "\n",
    "plt.xticks(np.arange(1,51,1))\n",
    "\n",
    "plt.yticks(np.arange(0,1,0.01))\n",
    "\n",
    "plt.xlabel('node degree value')\n",
    "\n",
    "plt.ylabel('density')\n",
    "\n",
    "plt.title('nodes degree distribution'.upper())\n",
    "\n",
    "plt.bar(degrees.index,degrees,color='lightblue',width=0.5)\n",
    "\n",
    "\n",
    "\n",
    "\n",
    "\n",
    "\n",
    "\n",
    "\n",
    "plt.figure(figsize=(16,9))\n",
    "\n",
    "plt.xticks(np.arange(1,51,1))\n",
    "\n",
    "plt.yticks(np.arange(0,1.05,0.05))\n",
    "\n",
    "plt.xlabel('node degree value')\n",
    "\n",
    "plt.ylabel('density')\n",
    "\n",
    "plt.title('CDF of nodes degree'.upper())\n",
    "\n",
    "plt.bar(degrees.index,cdf_list,color='salmon',width=0.5)\n",
    "\n",
    "\n"
   ]
  },
  {
   "cell_type": "markdown",
   "metadata": {},
   "source": [
    "**transforming files**"
   ]
  },
  {
   "cell_type": "code",
   "execution_count": 135,
   "metadata": {},
   "outputs": [],
   "source": [
    "f_pages=open('wiki-topcats-page-names.txt','r')\n",
    "names=list(f_pages.readlines())"
   ]
  },
  {
   "cell_type": "code",
   "execution_count": 136,
   "metadata": {},
   "outputs": [],
   "source": [
    "f_cat=open('wiki-topcats-categories.txt','r')\n",
    "cat=list(f_cat.readlines())"
   ]
  },
  {
   "cell_type": "code",
   "execution_count": 137,
   "metadata": {},
   "outputs": [],
   "source": [
    "def text_fix(names):\n",
    "    \n",
    "    for i in range(len(names)):\n",
    "        \n",
    "        names[i]=re.sub('\\n','',names[i])\n",
    "        \n",
    "        names[i]=re.sub(f'^{str(i)}','',names[i]).lstrip()\n",
    "        \n",
    "    return names\n"
   ]
  },
  {
   "cell_type": "code",
   "execution_count": 138,
   "metadata": {},
   "outputs": [],
   "source": [
    "page_names=text_fix(names)"
   ]
  },
  {
   "cell_type": "code",
   "execution_count": 179,
   "metadata": {},
   "outputs": [],
   "source": [
    "#page_names"
   ]
  },
  {
   "cell_type": "code",
   "execution_count": 140,
   "metadata": {},
   "outputs": [],
   "source": [
    "d={}\n",
    "\n",
    "\n",
    "for i in range(0,len(cat)):\n",
    "\n",
    "    support_list=cat[i].split(' ')\n",
    "    \n",
    "    support_list[-1]=support_list[-1][0:-2]\n",
    "    \n",
    "    key=support_list[0][9:-1]\n",
    "    \n",
    "    d[key]=support_list[1:]\n",
    "    \n",
    "#print(d)"
   ]
  },
  {
   "cell_type": "markdown",
   "metadata": {},
   "source": [
    "## RQ4"
   ]
  },
  {
   "cell_type": "markdown",
   "metadata": {},
   "source": [
    "**in the following cells the two categories for the subgraph are asked in input**"
   ]
  },
  {
   "cell_type": "code",
   "execution_count": 166,
   "metadata": {},
   "outputs": [
    {
     "name": "stdout",
     "output_type": "stream",
     "text": [
      "insert the first category2002_FIFA_World_Cup_players\n",
      "insert the second categoryEverton_F.C._players\n"
     ]
    }
   ],
   "source": [
    "\n",
    "stop=False\n",
    "\n",
    "while stop==False:\n",
    "    \n",
    "    cat_1=input('insert the first category')\n",
    "    \n",
    "    \n",
    "    \n",
    "    cat_2=input('insert the second category')\n",
    "    \n",
    "    \n",
    "\n",
    "    if cat_1 and cat_2 in d.keys():\n",
    "    \n",
    "        all_pages=list(set(d[cat_1]).union(set(d[cat_2])))\n",
    "        \n",
    "        stop=True\n",
    "        \n",
    "    else:\n",
    "        \n",
    "        print('please insert exixsting categories')\n",
    "    \n",
    "    \n",
    "    \n",
    "\n",
    "    "
   ]
  },
  {
   "cell_type": "code",
   "execution_count": 143,
   "metadata": {},
   "outputs": [],
   "source": [
    "all_pages.sort()"
   ]
  },
  {
   "cell_type": "markdown",
   "metadata": {},
   "source": [
    "**all the pages which belong to the subgraph**"
   ]
  },
  {
   "cell_type": "code",
   "execution_count": 167,
   "metadata": {},
   "outputs": [],
   "source": [
    "#all_pages"
   ]
  },
  {
   "cell_type": "markdown",
   "metadata": {},
   "source": [
    "**creating the subgraph**"
   ]
  },
  {
   "cell_type": "code",
   "execution_count": 146,
   "metadata": {},
   "outputs": [],
   "source": [
    "d_sg_in={}\n",
    "\n",
    "d_sg_out={}\n",
    "\n",
    "for page in all_pages:\n",
    "    \n",
    "    try:\n",
    "    \n",
    "        d_sg_in[int(page)]=in_degree[int(page)]\n",
    "        \n",
    "        d_sg_out[int(page)]=out_degree[int(page)]\n",
    "        \n",
    "    except KeyError:\n",
    "        \n",
    "        d_sg_in[int(page)]=[]\n",
    "        \n",
    "        d_sg_out[int(page)]=[]\n",
    "    \n"
   ]
  },
  {
   "cell_type": "code",
   "execution_count": 168,
   "metadata": {},
   "outputs": [],
   "source": [
    "#d_sg_in"
   ]
  },
  {
   "cell_type": "code",
   "execution_count": 169,
   "metadata": {},
   "outputs": [],
   "source": [
    "pages_subset=[]\n",
    "\n",
    "for page in all_pages:\n",
    "    \n",
    "    pages_subset.append(page_names[int(page)].lower())\n",
    "\n",
    "#pages_subset"
   ]
  },
  {
   "cell_type": "markdown",
   "metadata": {},
   "source": [
    "**the following script is to ask in input the pages to search for(test5)**"
   ]
  },
  {
   "cell_type": "code",
   "execution_count": 150,
   "metadata": {},
   "outputs": [
    {
     "name": "stdout",
     "output_type": "stream",
     "text": [
      "insert the first page tony meola\n",
      "insert the second page preki\n",
      "the index number for the  tony meola page is 1005156\n",
      "the index number for the  preki page is 1005218\n"
     ]
    }
   ],
   "source": [
    "flag=False\n",
    "\n",
    "page_first=0\n",
    "\n",
    "page_second=0\n",
    "\n",
    "while flag==False:\n",
    "\n",
    "    first_page=input('insert the first page '.lower())\n",
    "    second_page=input('insert the second page '.lower())\n",
    "    \n",
    "    if first_page and second_page in pages_subset:\n",
    "        \n",
    "        for idx in range(len(pages_subset)):\n",
    "        \n",
    "        \n",
    "            if first_page==pages_subset[idx]:\n",
    "            \n",
    "                first_page_1=int(all_pages[idx])\n",
    "            \n",
    "            elif second_page==pages_subset[idx]:\n",
    "            \n",
    "                second_page_1=int(all_pages[idx])\n",
    "        \n",
    "        flag=True\n",
    "        \n",
    "print('the index number for the ', first_page,'page is',first_page_1)\n",
    "print('the index number for the ', second_page, 'page is',second_page_1)\n",
    "\n"
   ]
  },
  {
   "cell_type": "code",
   "execution_count": null,
   "metadata": {},
   "outputs": [],
   "source": []
  },
  {
   "cell_type": "markdown",
   "metadata": {},
   "source": [
    "**calculating the set of links to remove, using BFS**"
   ]
  },
  {
   "cell_type": "code",
   "execution_count": 152,
   "metadata": {},
   "outputs": [],
   "source": [
    "def links_distance(subgraph,start_vertex,end_vertex):\n",
    "\n",
    "    layers={}\n",
    "    \n",
    "    queue=[]\n",
    "\n",
    "    queue.append(start_vertex)\n",
    "\n",
    "    distances={}\n",
    "    \n",
    "    distances[start_vertex]=0\n",
    "\n",
    "    visited={vertex:False for vertex in subgraph.keys()}\n",
    "    \n",
    "    visited[start_vertex]=True\n",
    "\n",
    "    \n",
    "    if len(subgraph[start_vertex])==0:\n",
    "        \n",
    "        return 'the first page has no connections among the pages of the two categories considered'\n",
    "    \n",
    "    \n",
    "    \n",
    "    while not len(queue)==0:\n",
    "    \n",
    "        count=0\n",
    "        \n",
    "        vertex=queue.pop(0)\n",
    "        \n",
    "        \n",
    "        \n",
    "        \n",
    "        layers[vertex]=[]\n",
    "        \n",
    "        \n",
    "        \n",
    "        for neighbour in subgraph[vertex]:\n",
    "            \n",
    "            \n",
    "            \n",
    "            \n",
    "            if neighbour==end_vertex:\n",
    "                \n",
    "                node=list(layers.keys())[-1]\n",
    "                \n",
    "                nodes=[node]\n",
    "                \n",
    "                while node!=start_vertex:\n",
    "                    \n",
    "                    for key,values in layers.items():\n",
    "                        \n",
    "                        if node in values:\n",
    "                            \n",
    "                            node=key\n",
    "                            \n",
    "                            nodes.append(node)\n",
    "                        \n",
    "\n",
    "                return print('the minimum set of pages to be removed','\\n',\n",
    "                'in order to disconnect the two pages is','\\n',nodes[:-1])\n",
    "        \n",
    "            \n",
    "            \n",
    "            \n",
    "            \n",
    "            try:\n",
    "                \n",
    "                \n",
    "                if visited[neighbour]==False:\n",
    "                \n",
    "                    \n",
    "                    \n",
    "                    \n",
    "                    visited[neighbour]=True\n",
    "            \n",
    "                    distances[neighbour]=distances[vertex]+1\n",
    "            \n",
    "                    queue.append(neighbour)\n",
    "                \n",
    "                    layers[vertex].append(neighbour)\n",
    "                    \n",
    "                    \n",
    "                \n",
    "                    \n",
    "            \n",
    "            \n",
    "            except KeyError:\n",
    "                \n",
    "                \n",
    "                count+=1\n",
    "                \n",
    "                if count==len(subgraph[vertex]):\n",
    "                    \n",
    "                    return 'it is impossible to reach from the first page the second page'\n",
    "                \n",
    "                \n",
    "                \n",
    "       \n",
    "            \n",
    "\n",
    "            \n",
    "            \n",
    "\n"
   ]
  },
  {
   "cell_type": "markdown",
   "metadata": {},
   "source": [
    "test1"
   ]
  },
  {
   "cell_type": "code",
   "execution_count": 154,
   "metadata": {},
   "outputs": [
    {
     "name": "stdout",
     "output_type": "stream",
     "text": [
      "the minimum set of pages to be removed \n",
      " in order to disconnect the two pages is \n",
      " [81759]\n"
     ]
    }
   ],
   "source": [
    "links_distance(d_sg_in,81508,82342)"
   ]
  },
  {
   "cell_type": "code",
   "execution_count": 155,
   "metadata": {},
   "outputs": [
    {
     "data": {
      "text/plain": [
       "[79405, 81130, 81248, 81511, 81759, 81856, 81868, 81940, 82069, 82891, 83088]"
      ]
     },
     "execution_count": 155,
     "metadata": {},
     "output_type": "execute_result"
    }
   ],
   "source": [
    "d_sg_in[81508]"
   ]
  },
  {
   "cell_type": "code",
   "execution_count": 156,
   "metadata": {},
   "outputs": [
    {
     "data": {
      "text/plain": [
       "[77900,\n",
       " 81508,\n",
       " 81760,\n",
       " 81761,\n",
       " 81784,\n",
       " 81787,\n",
       " 81846,\n",
       " 81856,\n",
       " 81875,\n",
       " 81928,\n",
       " 81934,\n",
       " 82049,\n",
       " 82089,\n",
       " 82342,\n",
       " 82350,\n",
       " 82400,\n",
       " 82479,\n",
       " 82759,\n",
       " 82768,\n",
       " 82878,\n",
       " 83290,\n",
       " 83464,\n",
       " 85864,\n",
       " 88804]"
      ]
     },
     "execution_count": 156,
     "metadata": {},
     "output_type": "execute_result"
    }
   ],
   "source": [
    "d_sg_in[81759]"
   ]
  },
  {
   "cell_type": "markdown",
   "metadata": {},
   "source": [
    "test2"
   ]
  },
  {
   "cell_type": "code",
   "execution_count": 157,
   "metadata": {},
   "outputs": [
    {
     "name": "stdout",
     "output_type": "stream",
     "text": [
      "the minimum set of pages to be removed \n",
      " in order to disconnect the two pages is \n",
      " [81940, 81510]\n"
     ]
    }
   ],
   "source": [
    "links_distance(d_sg_in,81507,82341)"
   ]
  },
  {
   "cell_type": "code",
   "execution_count": 158,
   "metadata": {},
   "outputs": [
    {
     "data": {
      "text/plain": [
       "[81506,\n",
       " 81510,\n",
       " 81563,\n",
       " 81582,\n",
       " 81931,\n",
       " 81934,\n",
       " 82064,\n",
       " 82089,\n",
       " 82343,\n",
       " 82345,\n",
       " 82354,\n",
       " 82588,\n",
       " 82886,\n",
       " 83082,\n",
       " 85492,\n",
       " 87009]"
      ]
     },
     "execution_count": 158,
     "metadata": {},
     "output_type": "execute_result"
    }
   ],
   "source": [
    "d_sg_in[81507]"
   ]
  },
  {
   "cell_type": "code",
   "execution_count": 159,
   "metadata": {},
   "outputs": [
    {
     "data": {
      "text/plain": [
       "[81619, 81940, 82345, 86907]"
      ]
     },
     "execution_count": 159,
     "metadata": {},
     "output_type": "execute_result"
    }
   ],
   "source": [
    "d_sg_in[81510]"
   ]
  },
  {
   "cell_type": "code",
   "execution_count": 160,
   "metadata": {},
   "outputs": [
    {
     "data": {
      "text/plain": [
       "[80625,\n",
       " 81111,\n",
       " 81946,\n",
       " 82041,\n",
       " 82051,\n",
       " 82064,\n",
       " 82322,\n",
       " 82341,\n",
       " 82414,\n",
       " 82729,\n",
       " 82891,\n",
       " 82970,\n",
       " 84284,\n",
       " 87474,\n",
       " 87589,\n",
       " 87684,\n",
       " 89978]"
      ]
     },
     "execution_count": 160,
     "metadata": {},
     "output_type": "execute_result"
    }
   ],
   "source": [
    "d_sg_in[81940]"
   ]
  },
  {
   "cell_type": "markdown",
   "metadata": {},
   "source": [
    "test3"
   ]
  },
  {
   "cell_type": "code",
   "execution_count": 161,
   "metadata": {},
   "outputs": [
    {
     "data": {
      "text/plain": [
       "'the first page has no connections among the pages of the two categories considered'"
      ]
     },
     "execution_count": 161,
     "metadata": {},
     "output_type": "execute_result"
    }
   ],
   "source": [
    "links_distance(d_sg_in,1005289,1005160)"
   ]
  },
  {
   "cell_type": "code",
   "execution_count": 162,
   "metadata": {},
   "outputs": [
    {
     "data": {
      "text/plain": [
       "[]"
      ]
     },
     "execution_count": 162,
     "metadata": {},
     "output_type": "execute_result"
    }
   ],
   "source": [
    "d_sg_in[1005289]"
   ]
  },
  {
   "cell_type": "markdown",
   "metadata": {},
   "source": [
    "test4"
   ]
  },
  {
   "cell_type": "code",
   "execution_count": 163,
   "metadata": {},
   "outputs": [],
   "source": [
    "#d_sg_in"
   ]
  },
  {
   "cell_type": "code",
   "execution_count": 378,
   "metadata": {},
   "outputs": [
    {
     "data": {
      "text/plain": [
       "'it is impossible to reach from the first page the second page'"
      ]
     },
     "execution_count": 378,
     "metadata": {},
     "output_type": "execute_result"
    }
   ],
   "source": [
    "links_distance(d_sg_in,81507,1005256)"
   ]
  },
  {
   "cell_type": "markdown",
   "metadata": {},
   "source": [
    "test 5:test using input pages names"
   ]
  },
  {
   "cell_type": "code",
   "execution_count": 153,
   "metadata": {},
   "outputs": [
    {
     "data": {
      "text/plain": [
       "'the first page has no connections among the pages of the two categories considered'"
      ]
     },
     "execution_count": 153,
     "metadata": {},
     "output_type": "execute_result"
    }
   ],
   "source": [
    "links_distance(d_sg_in,first_page_1,second_page_1)"
   ]
  },
  {
   "cell_type": "markdown",
   "metadata": {},
   "source": [
    "## RQ5(to be completed)"
   ]
  },
  {
   "cell_type": "code",
   "execution_count": 170,
   "metadata": {},
   "outputs": [],
   "source": [
    "categories=list(d.keys())\n",
    "#categories"
   ]
  },
  {
   "cell_type": "code",
   "execution_count": 171,
   "metadata": {},
   "outputs": [
    {
     "name": "stdout",
     "output_type": "stream",
     "text": [
      "insert a categoryEverton_F.C._players\n"
     ]
    }
   ],
   "source": [
    "input_cat=input('insert a category')"
   ]
  },
  {
   "cell_type": "code",
   "execution_count": 172,
   "metadata": {},
   "outputs": [],
   "source": [
    "#in_degree"
   ]
  },
  {
   "cell_type": "code",
   "execution_count": 173,
   "metadata": {},
   "outputs": [],
   "source": [
    "#d"
   ]
  },
  {
   "cell_type": "code",
   "execution_count": 70,
   "metadata": {},
   "outputs": [],
   "source": [
    "def category_distance(subgraph,start_vertex,end_vertex):\n",
    "\n",
    "    \n",
    "    \n",
    "    queue=[]\n",
    "\n",
    "    queue.append(start_vertex)\n",
    "\n",
    "    distances={}\n",
    "    \n",
    "    distances[start_vertex]=0\n",
    "\n",
    "    visited={vertex:False for vertex in subgraph.keys()}\n",
    "    \n",
    "    visited[start_vertex]=True\n",
    "\n",
    "    \n",
    "    if len(subgraph[start_vertex])==0:\n",
    "        \n",
    "        return 'not'\n",
    "    \n",
    "    \n",
    "    \n",
    "    while not len(queue)==0:\n",
    "    \n",
    "        count=0\n",
    "        \n",
    "        vertex=queue.pop(0)\n",
    "        \n",
    "        \n",
    "        \n",
    "        \n",
    "       \n",
    "        \n",
    "        \n",
    "        \n",
    "        for neighbour in subgraph[vertex]:\n",
    "            \n",
    "            \n",
    "            \n",
    "            \n",
    "            if neighbour==end_vertex:\n",
    "                \n",
    "                \n",
    "                return distances[vertex]+1\n",
    "            \n",
    "            \n",
    "            \n",
    "            try:\n",
    "                \n",
    "                \n",
    "                if visited[neighbour]==False:\n",
    "                \n",
    "                    \n",
    "                    \n",
    "                    \n",
    "                    visited[neighbour]=True\n",
    "            \n",
    "                    distances[neighbour]=distances[vertex]+1\n",
    "            \n",
    "                    queue.append(neighbour)\n",
    "                \n",
    "                    \n",
    "                    \n",
    "                    \n",
    "                \n",
    "                    \n",
    "            \n",
    "            \n",
    "            except KeyError:\n",
    "                \n",
    "                \n",
    "                count+=1\n",
    "                \n",
    "                if count==len(subgraph[vertex]):\n",
    "                    \n",
    "                    return 'not'\n",
    "                \n",
    "                \n",
    "       "
   ]
  },
  {
   "cell_type": "code",
   "execution_count": 78,
   "metadata": {},
   "outputs": [
    {
     "name": "stdout",
     "output_type": "stream",
     "text": [
      "Requirement already satisfied: tqdm in c:\\users\\giorg\\anaconda3\\lib\\site-packages (4.50.2)\n",
      "Note: you may need to restart the kernel to use updated packages.\n"
     ]
    }
   ],
   "source": [
    "pip install tqdm"
   ]
  },
  {
   "cell_type": "code",
   "execution_count": 79,
   "metadata": {},
   "outputs": [],
   "source": [
    "from tqdm import tqdm"
   ]
  },
  {
   "cell_type": "code",
   "execution_count": 110,
   "metadata": {},
   "outputs": [
    {
     "name": "stdout",
     "output_type": "stream",
     "text": [
      "584\n",
      "346\n"
     ]
    }
   ],
   "source": [
    "lista=list(map(int, d[input_cat]))\n",
    "print(len(lista))\n",
    "\n",
    "new_lista=[]\n",
    "\n",
    "for value in lista:\n",
    "\n",
    "    if value in list(in_degree.keys()):\n",
    "    \n",
    "        new_lista.append(value)\n",
    "    \n",
    "\n",
    "print(len(new_lista))    "
   ]
  },
  {
   "cell_type": "code",
   "execution_count": 174,
   "metadata": {},
   "outputs": [],
   "source": [
    "#out_degree.keys()"
   ]
  },
  {
   "cell_type": "code",
   "execution_count": 128,
   "metadata": {},
   "outputs": [
    {
     "name": "stdout",
     "output_type": "stream",
     "text": [
      "8\n",
      "[76871, 79069, 79143, 89734, 537220, 538870, 540020, 541169]\n"
     ]
    },
    {
     "data": {
      "text/plain": [
       "[81799, 83165]"
      ]
     },
     "execution_count": 128,
     "metadata": {},
     "output_type": "execute_result"
    }
   ],
   "source": [
    "f=d[categories[1]]\n",
    "\n",
    "\n",
    "lista1=list(map(int,f))\n",
    "\n",
    "new_lista1=[]\n",
    "\n",
    "for value in lista1:\n",
    "    \n",
    "    if value in out_degree.keys():\n",
    "        \n",
    "        new_lista1.append(value)\n",
    "        \n",
    "print(len(new_lista1))\n",
    "print(new_lista1)\n",
    "\n",
    "out_degree[89734]"
   ]
  },
  {
   "cell_type": "code",
   "execution_count": 176,
   "metadata": {},
   "outputs": [
    {
     "data": {
      "text/plain": [
       "\"'d_main={}\\n\\n\\n\\nfor i in tqdm(range(len(categories))):\\n        \\n           \\n            arr=[]\\n            \\n            \\n            \\n            cat1=list(map(int,d[categories[i]]))\\n            \\n            cat2=[]\\n            \\n            for element in cat1:\\n                \\n                if element in out_degree.keys():\\n                    \\n                    cat2.append(element)\\n            \\n            \\n            \\n           \\n            \\n                \\n            if len(cat2)!=0:\\n            \\n        \\n                for value in tqdm(cat2):\\n                \\n                \\n                     for page in new_lista:\\n    \\n                                \\n                        result=category_distance(in_degree, page, value)\\n                    \\n                        if type(result)==int:\\n                            \\n                            arr.append(result)\\n                \\n            \\n            \\n                d_main[categories[i]]=arr    \\n                \\n                \\n            else:\\n                \\n                d_main[categories[i]]='nd'    \""
      ]
     },
     "execution_count": 176,
     "metadata": {},
     "output_type": "execute_result"
    }
   ],
   "source": [
    "''''d_main={}\n",
    "\n",
    "\n",
    "\n",
    "for i in tqdm(range(len(categories))):\n",
    "        \n",
    "           \n",
    "            arr=[]\n",
    "            \n",
    "            \n",
    "            \n",
    "            cat1=list(map(int,d[categories[i]]))\n",
    "            \n",
    "            cat2=[]\n",
    "            \n",
    "            for element in cat1:\n",
    "                \n",
    "                if element in out_degree.keys():\n",
    "                    \n",
    "                    cat2.append(element)\n",
    "            \n",
    "            \n",
    "            \n",
    "           \n",
    "            \n",
    "                \n",
    "            if len(cat2)!=0:\n",
    "            \n",
    "        \n",
    "                for value in tqdm(cat2):\n",
    "                \n",
    "                \n",
    "                     for page in new_lista:\n",
    "    \n",
    "                                \n",
    "                        result=category_distance(in_degree, page, value)\n",
    "                    \n",
    "                        if type(result)==int:\n",
    "                            \n",
    "                            arr.append(result)\n",
    "                \n",
    "            \n",
    "            \n",
    "                d_main[categories[i]]=arr    \n",
    "                \n",
    "                \n",
    "            else:\n",
    "                \n",
    "                d_main[categories[i]]='nd'    '''"
   ]
  },
  {
   "cell_type": "code",
   "execution_count": 178,
   "metadata": {},
   "outputs": [],
   "source": [
    "#d_main"
   ]
  },
  {
   "cell_type": "code",
   "execution_count": null,
   "metadata": {},
   "outputs": [],
   "source": []
  }
 ],
 "metadata": {
  "kernelspec": {
   "display_name": "Python 3",
   "language": "python",
   "name": "python3"
  },
  "language_info": {
   "codemirror_mode": {
    "name": "ipython",
    "version": 3
   },
   "file_extension": ".py",
   "mimetype": "text/x-python",
   "name": "python",
   "nbconvert_exporter": "python",
   "pygments_lexer": "ipython3",
   "version": "3.8.5"
  }
 },
 "nbformat": 4,
 "nbformat_minor": 4
}
