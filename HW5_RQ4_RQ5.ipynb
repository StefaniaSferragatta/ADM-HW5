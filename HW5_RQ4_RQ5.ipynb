{
 "cells": [
  {
   "cell_type": "code",
   "execution_count": 36,
   "metadata": {},
   "outputs": [],
   "source": [
    "import pandas as pd\n",
    "import matplotlib.pyplot as plt\n",
    "import re\n",
    "import numpy as np\n",
    "import random\n",
    "from random import randint\n",
    "from random import seed"
   ]
  },
  {
   "cell_type": "code",
   "execution_count": null,
   "metadata": {},
   "outputs": [],
   "source": []
  },
  {
   "cell_type": "markdown",
   "metadata": {},
   "source": [
    "Import the dataset"
   ]
  },
  {
   "cell_type": "code",
   "execution_count": 2,
   "metadata": {},
   "outputs": [],
   "source": [
    "dataset = pd.read_csv('wikigraph_reduced.csv', sep='\\t', \n",
    "                      delimiter=None, header='infer',\n",
    "                      names=None, index_col=None, \n",
    "                      usecols=None, \n",
    "                      encoding = \"ISO-8859-1\")"
   ]
  },
  {
   "cell_type": "code",
   "execution_count": 3,
   "metadata": {},
   "outputs": [
    {
     "data": {
      "text/html": [
       "<div>\n",
       "<style scoped>\n",
       "    .dataframe tbody tr th:only-of-type {\n",
       "        vertical-align: middle;\n",
       "    }\n",
       "\n",
       "    .dataframe tbody tr th {\n",
       "        vertical-align: top;\n",
       "    }\n",
       "\n",
       "    .dataframe thead th {\n",
       "        text-align: right;\n",
       "    }\n",
       "</style>\n",
       "<table border=\"1\" class=\"dataframe\">\n",
       "  <thead>\n",
       "    <tr style=\"text-align: right;\">\n",
       "      <th></th>\n",
       "      <th>Unnamed: 0</th>\n",
       "      <th>0</th>\n",
       "      <th>1</th>\n",
       "    </tr>\n",
       "  </thead>\n",
       "  <tbody>\n",
       "    <tr>\n",
       "      <th>0</th>\n",
       "      <td>796</td>\n",
       "      <td>95</td>\n",
       "      <td>1185516</td>\n",
       "    </tr>\n",
       "    <tr>\n",
       "      <th>1</th>\n",
       "      <td>909</td>\n",
       "      <td>108</td>\n",
       "      <td>1059989</td>\n",
       "    </tr>\n",
       "    <tr>\n",
       "      <th>2</th>\n",
       "      <td>910</td>\n",
       "      <td>108</td>\n",
       "      <td>1062426</td>\n",
       "    </tr>\n",
       "    <tr>\n",
       "      <th>3</th>\n",
       "      <td>911</td>\n",
       "      <td>108</td>\n",
       "      <td>1161925</td>\n",
       "    </tr>\n",
       "    <tr>\n",
       "      <th>4</th>\n",
       "      <td>1141</td>\n",
       "      <td>134</td>\n",
       "      <td>541222</td>\n",
       "    </tr>\n",
       "  </tbody>\n",
       "</table>\n",
       "</div>"
      ],
      "text/plain": [
       "   Unnamed: 0    0        1\n",
       "0         796   95  1185516\n",
       "1         909  108  1059989\n",
       "2         910  108  1062426\n",
       "3         911  108  1161925\n",
       "4        1141  134   541222"
      ]
     },
     "execution_count": 3,
     "metadata": {},
     "output_type": "execute_result"
    }
   ],
   "source": [
    "dataset.head()"
   ]
  },
  {
   "cell_type": "code",
   "execution_count": 4,
   "metadata": {},
   "outputs": [
    {
     "data": {
      "text/plain": [
       "Index(['Unnamed: 0', '0', '1'], dtype='object')"
      ]
     },
     "execution_count": 4,
     "metadata": {},
     "output_type": "execute_result"
    }
   ],
   "source": [
    "dataset.columns"
   ]
  },
  {
   "cell_type": "markdown",
   "metadata": {},
   "source": [
    "Change the columns name; 0 is the **source** and 1 is the **target**"
   ]
  },
  {
   "cell_type": "code",
   "execution_count": 5,
   "metadata": {},
   "outputs": [],
   "source": [
    "dataset.columns=['Index','Source','Target']"
   ]
  },
  {
   "cell_type": "markdown",
   "metadata": {},
   "source": [
    "Make the first column the index"
   ]
  },
  {
   "cell_type": "code",
   "execution_count": 6,
   "metadata": {
    "scrolled": true
   },
   "outputs": [],
   "source": [
    "dataset.set_index('Index' , inplace = True)"
   ]
  },
  {
   "cell_type": "code",
   "execution_count": 7,
   "metadata": {},
   "outputs": [
    {
     "data": {
      "text/html": [
       "<div>\n",
       "<style scoped>\n",
       "    .dataframe tbody tr th:only-of-type {\n",
       "        vertical-align: middle;\n",
       "    }\n",
       "\n",
       "    .dataframe tbody tr th {\n",
       "        vertical-align: top;\n",
       "    }\n",
       "\n",
       "    .dataframe thead th {\n",
       "        text-align: right;\n",
       "    }\n",
       "</style>\n",
       "<table border=\"1\" class=\"dataframe\">\n",
       "  <thead>\n",
       "    <tr style=\"text-align: right;\">\n",
       "      <th></th>\n",
       "      <th>Source</th>\n",
       "      <th>Target</th>\n",
       "    </tr>\n",
       "    <tr>\n",
       "      <th>Index</th>\n",
       "      <th></th>\n",
       "      <th></th>\n",
       "    </tr>\n",
       "  </thead>\n",
       "  <tbody>\n",
       "    <tr>\n",
       "      <th>796</th>\n",
       "      <td>95</td>\n",
       "      <td>1185516</td>\n",
       "    </tr>\n",
       "    <tr>\n",
       "      <th>909</th>\n",
       "      <td>108</td>\n",
       "      <td>1059989</td>\n",
       "    </tr>\n",
       "    <tr>\n",
       "      <th>910</th>\n",
       "      <td>108</td>\n",
       "      <td>1062426</td>\n",
       "    </tr>\n",
       "    <tr>\n",
       "      <th>911</th>\n",
       "      <td>108</td>\n",
       "      <td>1161925</td>\n",
       "    </tr>\n",
       "    <tr>\n",
       "      <th>1141</th>\n",
       "      <td>134</td>\n",
       "      <td>541222</td>\n",
       "    </tr>\n",
       "  </tbody>\n",
       "</table>\n",
       "</div>"
      ],
      "text/plain": [
       "       Source   Target\n",
       "Index                 \n",
       "796        95  1185516\n",
       "909       108  1059989\n",
       "910       108  1062426\n",
       "911       108  1161925\n",
       "1141      134   541222"
      ]
     },
     "execution_count": 7,
     "metadata": {},
     "output_type": "execute_result"
    }
   ],
   "source": [
    "dataset.head()"
   ]
  },
  {
   "cell_type": "markdown",
   "metadata": {},
   "source": [
    "### RQ1. Create the graph\n",
    "Create two dictionaries for the nodes of the graph; one is for the indegree node, the other one is for the outdegree node. Note that the dictionaries contain the unique element."
   ]
  },
  {
   "cell_type": "code",
   "execution_count": 8,
   "metadata": {},
   "outputs": [],
   "source": [
    "in_degree = {v: [] for v in set(dataset.Source)}\n",
    "out_degree = {v: [] for v in set(dataset.Target)}"
   ]
  },
  {
   "cell_type": "code",
   "execution_count": 9,
   "metadata": {},
   "outputs": [],
   "source": [
    "for row in dataset.iterrows():\n",
    "    source = row[1][0]\n",
    "    target = row[1][1]\n",
    "    in_degree[source].append(target)\n",
    "    out_degree[target].append(source)"
   ]
  },
  {
   "cell_type": "code",
   "execution_count": 10,
   "metadata": {},
   "outputs": [
    {
     "data": {
      "text/plain": [
       "[1059989, 1062426, 1161925]"
      ]
     },
     "execution_count": 10,
     "metadata": {},
     "output_type": "execute_result"
    }
   ],
   "source": [
    "in_degree[108]"
   ]
  },
  {
   "cell_type": "markdown",
   "metadata": {},
   "source": [
    "Visualize how many indegree and outdegree has the graph"
   ]
  },
  {
   "cell_type": "code",
   "execution_count": 11,
   "metadata": {},
   "outputs": [
    {
     "name": "stdout",
     "output_type": "stream",
     "text": [
      "75467\n"
     ]
    }
   ],
   "source": [
    "n_art_outlink = len(out_degree)\n",
    "print(n_art_outlink)"
   ]
  },
  {
   "cell_type": "code",
   "execution_count": 12,
   "metadata": {
    "scrolled": true
   },
   "outputs": [
    {
     "name": "stdout",
     "output_type": "stream",
     "text": [
      "90920\n"
     ]
    }
   ],
   "source": [
    "n_art_inlink = len(in_degree)\n",
    "print(n_art_inlink)"
   ]
  },
  {
   "cell_type": "markdown",
   "metadata": {},
   "source": [
    "#### Is the graph directed?"
   ]
  },
  {
   "cell_type": "code",
   "execution_count": 13,
   "metadata": {},
   "outputs": [
    {
     "name": "stdout",
     "output_type": "stream",
     "text": [
      "The graph is directed\n"
     ]
    }
   ],
   "source": [
    "if (len(set(dataset.Source).intersection(set(dataset.Target)))!=0):\n",
    "     print ('The graph is directed')\n",
    "    "
   ]
  },
  {
   "cell_type": "markdown",
   "metadata": {},
   "source": [
    "#### How many articles are we considering?"
   ]
  },
  {
   "cell_type": "code",
   "execution_count": 14,
   "metadata": {
    "scrolled": true
   },
   "outputs": [
    {
     "name": "stdout",
     "output_type": "stream",
     "text": [
      "98343\n"
     ]
    }
   ],
   "source": [
    "nodes = set(dataset.Source).union(set(dataset.Target))\n",
    "n_nodes = len(nodes)\n",
    "print(n_nodes)"
   ]
  },
  {
   "cell_type": "markdown",
   "metadata": {},
   "source": [
    "#### How many hyperlinks between pages exist?"
   ]
  },
  {
   "cell_type": "code",
   "execution_count": 15,
   "metadata": {
    "scrolled": true
   },
   "outputs": [
    {
     "name": "stdout",
     "output_type": "stream",
     "text": [
      "483094\n"
     ]
    }
   ],
   "source": [
    "n_edges = len(dataset)\n",
    "print(n_edges)"
   ]
  },
  {
   "cell_type": "markdown",
   "metadata": {},
   "source": [
    "#### Compute the average number of links in an arbitrary page"
   ]
  },
  {
   "cell_type": "code",
   "execution_count": 16,
   "metadata": {},
   "outputs": [
    {
     "name": "stdout",
     "output_type": "stream",
     "text": [
      "5\n"
     ]
    }
   ],
   "source": [
    "import numpy as np\n",
    "\n",
    "n_outlinks = []\n",
    "for node in nodes:\n",
    "    try:\n",
    "        out_deg = len(out_degree[node])\n",
    "    except:\n",
    "        out_deg = 0\n",
    "    n_outlinks.append(out_deg)\n",
    "avg_outlink = np.mean(n_outlinks)\n",
    "print(round(avg_outlink))"
   ]
  },
  {
   "cell_type": "markdown",
   "metadata": {},
   "source": [
    "#### What is the graph density?\n",
    "For directed graph the density is given by: $\\frac{|E|}{|V|(|V|-1)}$\n",
    "\n"
   ]
  },
  {
   "cell_type": "code",
   "execution_count": 17,
   "metadata": {},
   "outputs": [
    {
     "name": "stdout",
     "output_type": "stream",
     "text": [
      "4.9951571365597335e-05\n"
     ]
    }
   ],
   "source": [
    "density = (n_edges/(n_nodes*(n_nodes-1)))\n",
    "print(density)"
   ]
  },
  {
   "cell_type": "markdown",
   "metadata": {},
   "source": [
    "#### The graph is dense or sparse?"
   ]
  },
  {
   "cell_type": "code",
   "execution_count": 18,
   "metadata": {},
   "outputs": [
    {
     "name": "stdout",
     "output_type": "stream",
     "text": [
      "Max number of edges: 9671345649\n",
      "Number of edges:  483094\n"
     ]
    }
   ],
   "source": [
    "print('Max number of edges:',n_nodes**2)\n",
    "print('Number of edges: ',n_edges)"
   ]
  },
  {
   "cell_type": "markdown",
   "metadata": {},
   "source": [
    "The graph is sparse."
   ]
  },
  {
   "cell_type": "markdown",
   "metadata": {},
   "source": [
    "#### Visualize the nodes' degree distribution [To complete]"
   ]
  },
  {
   "cell_type": "code",
   "execution_count": 19,
   "metadata": {},
   "outputs": [],
   "source": [
    "connections = []\n",
    "for node in nodes:\n",
    "    try:\n",
    "        in_deg = len(in_degree[node])\n",
    "    except:\n",
    "        in_deg = 0\n",
    "    try:\n",
    "        out_deg = len(out_degree[node])\n",
    "    except:\n",
    "        out_deg = 0\n",
    "    connections.append(in_deg+out_deg)"
   ]
  },
  {
   "cell_type": "code",
   "execution_count": 20,
   "metadata": {},
   "outputs": [],
   "source": [
    "series=pd.Series(connections)\n",
    "\n",
    "degrees=series.groupby(by=connections).count()\n",
    "d_sum=np.sum(degrees)\n",
    "degrees=degrees[0:50]   # the first 50 degrees values are enough to give a true representation\n",
    "degrees=degrees/d_sum\n",
    "\n",
    "\n",
    "degrees_sum=0\n",
    "\n",
    "cdf_list=[]\n",
    "\n",
    "\n",
    "for x in degrees:\n",
    "    \n",
    "    \n",
    "    degrees_sum=(degrees_sum+x)\n",
    "    \n",
    "    \n",
    "    cdf_list.append(degrees_sum)\n",
    "    "
   ]
  },
  {
   "cell_type": "code",
   "execution_count": 21,
   "metadata": {},
   "outputs": [
    {
     "data": {
      "text/plain": [
       "<BarContainer object of 50 artists>"
      ]
     },
     "execution_count": 21,
     "metadata": {},
     "output_type": "execute_result"
    },
    {
     "data": {
      "image/png": "[encoded data removed]",
      "text/plain": [
       "<Figure size 1152x648 with 1 Axes>"
      ]
     },
     "metadata": {
      "needs_background": "light"
     },
     "output_type": "display_data"
    },
    {
     "data": {
      "image/png": "[encoded data removed]",
      "text/plain": [
       "<Figure size 1152x648 with 1 Axes>"
      ]
     },
     "metadata": {
      "needs_background": "light"
     },
     "output_type": "display_data"
    }
   ],
   "source": [
    "plt.figure(figsize=(16,9))\n",
    "\n",
    "plt.xticks(np.arange(1,51,1))\n",
    "\n",
    "plt.yticks(np.arange(0,1,0.01))\n",
    "\n",
    "plt.xlabel('node degree value')\n",
    "\n",
    "plt.ylabel('density')\n",
    "\n",
    "plt.title('nodes degree distribution'.upper())\n",
    "\n",
    "plt.bar(degrees.index,degrees,color='lightblue',width=0.5)\n",
    "\n",
    "\n",
    "\n",
    "\n",
    "\n",
    "\n",
    "\n",
    "\n",
    "plt.figure(figsize=(16,9))\n",
    "\n",
    "plt.xticks(np.arange(1,51,1))\n",
    "\n",
    "plt.yticks(np.arange(0,1.05,0.05))\n",
    "\n",
    "plt.xlabel('node degree value')\n",
    "\n",
    "plt.ylabel('density')\n",
    "\n",
    "plt.title('CDF of nodes degree'.upper())\n",
    "\n",
    "plt.bar(degrees.index,cdf_list,color='salmon',width=0.5)\n",
    "\n",
    "\n"
   ]
  },
  {
   "cell_type": "markdown",
   "metadata": {},
   "source": [
    "**transforming files**"
   ]
  },
  {
   "cell_type": "code",
   "execution_count": 37,
   "metadata": {},
   "outputs": [],
   "source": [
    "f_pages=open('wiki-topcats-page-names.txt','r')\n",
    "names=list(f_pages.readlines())"
   ]
  },
  {
   "cell_type": "code",
   "execution_count": 38,
   "metadata": {},
   "outputs": [],
   "source": [
    "f_cat=open('wiki-topcats-categories.txt','r')\n",
    "cat=list(f_cat.readlines())"
   ]
  },
  {
   "cell_type": "code",
   "execution_count": 39,
   "metadata": {},
   "outputs": [],
   "source": [
    "def text_fix(names):\n",
    "    \n",
    "    for i in range(len(names)):\n",
    "        \n",
    "        names[i]=re.sub('\\n','',names[i])\n",
    "        \n",
    "        names[i]=re.sub(f'^{str(i)}','',names[i]).lstrip()\n",
    "        \n",
    "    return names\n"
   ]
  },
  {
   "cell_type": "code",
   "execution_count": 25,
   "metadata": {},
   "outputs": [],
   "source": [
    "page_names=text_fix(names)"
   ]
  },
  {
   "cell_type": "code",
   "execution_count": 687,
   "metadata": {},
   "outputs": [],
   "source": [
    "#page_names"
   ]
  },
  {
   "cell_type": "code",
   "execution_count": 40,
   "metadata": {},
   "outputs": [],
   "source": [
    "categories={v: [] for v in nodes} \n",
    "categories_file = {} \n",
    "\n",
    "for i in range(len(cat)):\n",
    "    support_list=cat[i].split(' ')  \n",
    "    support_list[-1]=support_list[-1][0:-2]  \n",
    "    category=support_list[0][9:-1]\n",
    "    cat_nodes = []\n",
    "    for node in support_list[1:]:\n",
    "        try:\n",
    "            categories[int(node)].append(category)\n",
    "        except:\n",
    "            0\n",
    "        try:\n",
    "            node = int(node)\n",
    "            if node in nodes:\n",
    "                cat_nodes.append(node)\n",
    "        except:\n",
    "            if node in nodes:\n",
    "                cat_nodes.append(node)\n",
    "    \n",
    "    if cat_nodes!=[]:    \n",
    "        categories_file[category] = cat_nodes"
   ]
  },
  {
   "cell_type": "markdown",
   "metadata": {},
   "source": [
    "## Filter the category dictionaries:"
   ]
  },
  {
   "cell_type": "code",
   "execution_count": 41,
   "metadata": {},
   "outputs": [
    {
     "name": "stdout",
     "output_type": "stream",
     "text": [
      "['Debut_albums']\n",
      "\n",
      "[948021, 1055485, 1164028, 1715998]\n"
     ]
    }
   ],
   "source": [
    "print(categories[108])#giving a page we can see the related category\n",
    "print()\n",
    "print(categories_file['Eli_Lilly_and_Company']) #giving a category we can see the associated pages"
   ]
  },
  {
   "cell_type": "code",
   "execution_count": 42,
   "metadata": {},
   "outputs": [],
   "source": [
    "categories_filtered={}\n",
    "\n",
    "for node in categories.keys():\n",
    "    try:\n",
    "        rand_category = random.choice(categories[node])\n",
    "        categories_filtered[node] = rand_category\n",
    "    except:\n",
    "        categories_filtered[node] = 'Nan'"
   ]
  },
  {
   "cell_type": "code",
   "execution_count": 688,
   "metadata": {},
   "outputs": [],
   "source": [
    "#print(categories_filtered.keys())"
   ]
  },
  {
   "cell_type": "code",
   "execution_count": 44,
   "metadata": {},
   "outputs": [],
   "source": [
    "categories_file_filtered = {category:[] for category in set(categories_filtered.values())}\n",
    "for node in categories_filtered.keys():\n",
    "    \n",
    "    node.lower()\n",
    "    try:\n",
    "        categories_file_filtered[categories_filtered[node]].append(node)\n",
    "    except:\n",
    "        continue"
   ]
  },
  {
   "cell_type": "code",
   "execution_count": 689,
   "metadata": {},
   "outputs": [],
   "source": [
    "#before filtering:\n",
    "#print(categories_file['American_films'])"
   ]
  },
  {
   "cell_type": "code",
   "execution_count": 690,
   "metadata": {},
   "outputs": [],
   "source": [
    "#After filtering:\n",
    "#print(categories_file_filtered['American_films'])"
   ]
  },
  {
   "cell_type": "markdown",
   "metadata": {},
   "source": [
    "## RQ4"
   ]
  },
  {
   "cell_type": "code",
   "execution_count": 628,
   "metadata": {},
   "outputs": [],
   "source": [
    "import modules4 as mod"
   ]
  },
  {
   "cell_type": "code",
   "execution_count": 629,
   "metadata": {},
   "outputs": [],
   "source": [
    "d=mod.transform_dict(categories_file_filtered)\n"
   ]
  },
  {
   "cell_type": "markdown",
   "metadata": {},
   "source": [
    "**in the following cells the two categories for the subgraph are asked in input**"
   ]
  },
  {
   "cell_type": "code",
   "execution_count": 630,
   "metadata": {},
   "outputs": [
    {
     "name": "stdout",
     "output_type": "stream",
     "text": [
      "insert the first categoryameriCan fillms\n",
      "insert the second categoryamerican film actor\n",
      "the categories you are looking for is not in the categories considered or you wrote them wrongly.\n",
      "press any character if you want to continue, otherwise press a digit s\n",
      "insert the first categoryAmerican Films\n",
      "insert the second categoryAmerican film actors\n"
     ]
    }
   ],
   "source": [
    "all_pages=mod.categories_input(d)"
   ]
  },
  {
   "cell_type": "code",
   "execution_count": 631,
   "metadata": {},
   "outputs": [
    {
     "name": "stdout",
     "output_type": "stream",
     "text": [
      "insert the first page emile meyer\n",
      "insert the second page harry cheshires\n",
      "you have to insert two pages which are in the two categories\n",
      "insert the first page EMILIE MEYER\n",
      "you have to insert two pages which are in the two categories\n",
      "insert the first page emilie meyer\n",
      "you have to insert two pages which are in the two categories\n",
      "insert the first page harry cheshires\n",
      "you have to insert two pages which are in the two categories\n",
      "insert the first page emilie meyer\n",
      "you have to insert two pages which are in the two categories\n",
      "insert the first page emile meyer\n",
      "insert the second page harry cheshire\n"
     ]
    }
   ],
   "source": [
    "input_pages=mod.input_pages(all_pages,page_names)"
   ]
  },
  {
   "cell_type": "markdown",
   "metadata": {},
   "source": [
    "**creating the out_degree subgraph of the two categories given in input. This graph will include only pages which belong to the two categories**"
   ]
  },
  {
   "cell_type": "code",
   "execution_count": 632,
   "metadata": {},
   "outputs": [],
   "source": [
    "out_d=mod.out_subgraph(all_pages,out_degree,d)"
   ]
  },
  {
   "cell_type": "code",
   "execution_count": 633,
   "metadata": {},
   "outputs": [],
   "source": [
    "#out_d"
   ]
  },
  {
   "cell_type": "markdown",
   "metadata": {},
   "source": [
    "**creating the in_degree subgraph of the two categories given in input. This graph will include only pages which belong to the two categories**"
   ]
  },
  {
   "cell_type": "code",
   "execution_count": 634,
   "metadata": {},
   "outputs": [],
   "source": [
    "in_d=mod.in_subgraph(all_pages,in_degree,d)"
   ]
  },
  {
   "cell_type": "code",
   "execution_count": 635,
   "metadata": {},
   "outputs": [],
   "source": [
    "#in_d"
   ]
  },
  {
   "cell_type": "markdown",
   "metadata": {},
   "source": [
    "**calculating the set of links to remove, using BFS**"
   ]
  },
  {
   "cell_type": "markdown",
   "metadata": {},
   "source": [
    "*test1. Using random nodes which belong to the subgraph*"
   ]
  },
  {
   "cell_type": "code",
   "execution_count": 636,
   "metadata": {},
   "outputs": [
    {
     "name": "stdout",
     "output_type": "stream",
     "text": [
      "1048923\n",
      "1074208\n",
      "start page is: No Deposit, No Return\n",
      "end page is: Beeson Carroll\n",
      "the minimum set of pages to be removed \n",
      " in order to disconnect the two pages is \n",
      " [1059745, 121334, 1164540, 1246638, 1163690, 1165756, 627140, 1166880, 1163470]\n"
     ]
    }
   ],
   "source": [
    "start=random.choice(all_pages)\n",
    "print(start)\n",
    "\n",
    "end=random.choice(all_pages)\n",
    "print(end)\n",
    "\n",
    "print(f'start page is: {page_names[start]}')\n",
    "\n",
    "print(f'end page is: {page_names[end]}')\n",
    "\n",
    "\n",
    "mod.links_distance(in_d,start,end)"
   ]
  },
  {
   "cell_type": "markdown",
   "metadata": {},
   "source": [
    "*test2. Using arbitrary pages which belong to the subgraph*"
   ]
  },
  {
   "cell_type": "code",
   "execution_count": 637,
   "metadata": {},
   "outputs": [
    {
     "name": "stdout",
     "output_type": "stream",
     "text": [
      "the minimum set of pages to be removed \n",
      " in order to disconnect the two pages is \n",
      " [1057804, 1059745, 334880]\n"
     ]
    }
   ],
   "source": [
    "mod.links_distance(in_d,334868,1162915)"
   ]
  },
  {
   "cell_type": "markdown",
   "metadata": {},
   "source": [
    "*given that the graph is directed it is possible that inverting the start page and the end page will be obtained a different result*"
   ]
  },
  {
   "cell_type": "code",
   "execution_count": 638,
   "metadata": {},
   "outputs": [
    {
     "data": {
      "text/plain": [
       "'the first page has no connections among the pages of the two categories considered'"
      ]
     },
     "execution_count": 638,
     "metadata": {},
     "output_type": "execute_result"
    }
   ],
   "source": [
    "mod.links_distance(in_d,1162915,334868)"
   ]
  },
  {
   "cell_type": "markdown",
   "metadata": {},
   "source": [
    "*test 3 using input pages*"
   ]
  },
  {
   "cell_type": "code",
   "execution_count": 639,
   "metadata": {},
   "outputs": [
    {
     "data": {
      "text/plain": [
       "'the starting page is connected with itself'"
      ]
     },
     "execution_count": 639,
     "metadata": {},
     "output_type": "execute_result"
    }
   ],
   "source": [
    "mod.links_distance(in_d,input_pages[0],input_pages[1])"
   ]
  },
  {
   "cell_type": "markdown",
   "metadata": {},
   "source": [
    "## Rq5"
   ]
  },
  {
   "cell_type": "code",
   "execution_count": 691,
   "metadata": {},
   "outputs": [],
   "source": [
    "#categories_file_filtered.keys()"
   ]
  },
  {
   "cell_type": "code",
   "execution_count": 678,
   "metadata": {},
   "outputs": [
    {
     "name": "stdout",
     "output_type": "stream",
     "text": [
      "insert a category University of California\n",
      "the category you are looking for is not in the categories considered or you wrote wrongly.\n",
      "press any character if you want to continue, otherwise press a digit j\n",
      "insert a category American film actors\n"
     ]
    }
   ],
   "source": [
    "input_cat=mod.cat_input(d)"
   ]
  },
  {
   "cell_type": "code",
   "execution_count": 692,
   "metadata": {},
   "outputs": [],
   "source": [
    "#new_lista=d[input_cat]\n",
    "#print('the pages relative to the input category are: ')\n",
    "#for number in new_lista:\n",
    "    \n",
    "    #print(page_names[number])"
   ]
  },
  {
   "cell_type": "code",
   "execution_count": 680,
   "metadata": {},
   "outputs": [],
   "source": [
    "d_cat={key:[] for key in categories_file_filtered.keys()}\n",
    "\n",
    "#d_cat"
   ]
  },
  {
   "cell_type": "markdown",
   "metadata": {},
   "source": [
    "**in the following function will be used the previous dictionary, where each key is a category name, in order to store the distances from each page of the category input to the other pages of the other categories. For each key there will be an empty list if there are no links at all between the two categories or a list of distances among the single pages in the two categories**"
   ]
  },
  {
   "cell_type": "code",
   "execution_count": 681,
   "metadata": {},
   "outputs": [
    {
     "name": "stderr",
     "output_type": "stream",
     "text": [
      "100%|██████████| 2852/2852 [10:44<00:00,  4.42it/s]\n"
     ]
    }
   ],
   "source": [
    "d_cat=mod.dictionary_distances(cat_distance,in_degree,new_lista,categories_filtered,d_cat)"
   ]
  },
  {
   "cell_type": "markdown",
   "metadata": {},
   "source": [
    "**computing the median distance between category input and the others categories**"
   ]
  },
  {
   "cell_type": "code",
   "execution_count": 682,
   "metadata": {},
   "outputs": [],
   "source": [
    "d_result=mod.median(d_cat)"
   ]
  },
  {
   "cell_type": "markdown",
   "metadata": {},
   "source": [
    "**categories distance from the input category, ordered by median**"
   ]
  },
  {
   "cell_type": "code",
   "execution_count": 683,
   "metadata": {},
   "outputs": [
    {
     "data": {
      "text/plain": [
       "Ivor_Novello_Award_winners                                      4.0\n",
       "Royal_Shakespeare_Company_members                               4.0\n",
       "American_billionaires                                           4.0\n",
       "Pennsylvania_Democrats                                          4.0\n",
       "American_Quakers                                                4.0\n",
       "Infectious_disease_deaths_in_England                            4.0\n",
       "Congressional_Gold_Medal_recipients                             4.0\n",
       "Ohio_Republicans                                                4.0\n",
       "New_Jersey_Democrats                                            4.0\n",
       "20th-century_American_people                                    4.0\n",
       "Grammy_Lifetime_Achievement_Award_winners                       4.0\n",
       "Film_theorists                                                  4.0\n",
       "Junior_college_men's_basketball_players_in_the_United_States    4.0\n",
       "Australian_Roman_Catholics                                      4.0\n",
       "American_people_of_Austrian-Jewish_descent                      4.0\n",
       "Accidental_deaths_from_falls                                    5.0\n",
       "American_football_linebackers                                   5.0\n",
       "Films_set_in_Los_Angeles,_California                            5.0\n",
       "Royal_National_Theatre_Company_members                          5.0\n",
       "Films_based_on_biographies                                      5.0\n",
       "People_from_Beaumont,_Texas                                     5.0\n",
       "19th-century_American_newspaper_publishers_(people)             5.0\n",
       "English-language_compilation_albums                             5.0\n",
       "Fictional_secret_agents_and_spies                               5.0\n",
       "Female_rock_singers                                             5.0\n",
       "Oklahoma_State_University_alumni                                5.0\n",
       "American_multi-instrumentalists                                 5.0\n",
       "Individual_dogs                                                 5.0\n",
       "American_comedy_musicians                                       5.0\n",
       "1960s_romantic_comedy_films                                     5.0\n",
       "dtype: float64"
      ]
     },
     "execution_count": 683,
     "metadata": {},
     "output_type": "execute_result"
    }
   ],
   "source": [
    "series=pd.Series(data=d_result).sort_values()\n",
    "series.head(30)"
   ]
  },
  {
   "cell_type": "code",
   "execution_count": 684,
   "metadata": {},
   "outputs": [
    {
     "data": {
      "text/plain": [
       "Bengali-language_films                                   12.0\n",
       "Irish_barristers                                         12.0\n",
       "Sportspeople_from_Buenos_Aires                           12.0\n",
       "Rivers_of_the_Prut_subbasin                              12.0\n",
       "Members_of_the_New_Hampshire_House_of_Representatives    12.0\n",
       "CD_Castelln_footballers                                  12.0\n",
       "U.C._Sampdoria_players                                   12.0\n",
       "Expatriate_footballers_in_Hong_Kong                      12.0\n",
       "A.C._Arezzo_players                                      13.0\n",
       "People_from_Verona                                       13.0\n",
       "People_from_Rosario,_Santa_Fe                            13.0\n",
       "Footballers_at_the_1924_Summer_Olympics                  13.0\n",
       "Ava_Futebol_Clube_players                                13.0\n",
       "South_Korean_footballers                                 13.0\n",
       "Telugu_actors                                            13.0\n",
       "Ternana_Calcio_players                                   13.0\n",
       "Ravenna_Calcio_players                                   13.0\n",
       "Alumni_of_Clare_College,_Cambridge                       14.0\n",
       "Jazz_fusion_albums                                       14.0\n",
       "Genoa_C.F.C._players                                     14.0\n",
       "People_from_Genoa_(city)                                 14.0\n",
       "K-League_players                                         14.0\n",
       "A.S._Bari_players                                        14.0\n",
       "The_College_of_William_&_Mary_alumni                     14.0\n",
       "Expatriate_footballers_in_the_Czech_Republic             15.0\n",
       "Reggina_Calcio_players                                   15.0\n",
       "F.C._Messina_Peloro_players                              15.0\n",
       "AS_Cannes_players                                        16.0\n",
       "People_from_Florence                                     16.0\n",
       "dtype: float64"
      ]
     },
     "execution_count": 684,
     "metadata": {},
     "output_type": "execute_result"
    }
   ],
   "source": [
    "series[-30:-1]"
   ]
  },
  {
   "cell_type": "code",
   "execution_count": 685,
   "metadata": {},
   "outputs": [
    {
     "data": {
      "text/plain": [
       "count    3754.000000\n",
       "mean        7.249600\n",
       "std         1.700545\n",
       "min         4.000000\n",
       "25%         6.000000\n",
       "50%         7.000000\n",
       "75%         8.000000\n",
       "max        17.000000\n",
       "dtype: float64"
      ]
     },
     "execution_count": 685,
     "metadata": {},
     "output_type": "execute_result"
    }
   ],
   "source": [
    "series.describe()"
   ]
  },
  {
   "cell_type": "code",
   "execution_count": 686,
   "metadata": {},
   "outputs": [
    {
     "data": {
      "image/png": "[encoded data removed]",
      "text/plain": [
       "<Figure size 1296x2592 with 1 Axes>"
      ]
     },
     "metadata": {
      "needs_background": "light"
     },
     "output_type": "display_data"
    }
   ],
   "source": [
    "plt.figure(figsize=(18,36))\n",
    "\n",
    "plt.title('histogram of the median from the category input')\n",
    "\n",
    "plt.hist(series,color='orange',bins=35)\n",
    "\n",
    "plt.xlabel('median value')\n",
    "\n",
    "plt.xticks(np.arange(0,np.max(series)+1,0.5))\n",
    "\n",
    "plt.yticks(np.arange(0,5000,100))\n",
    "\n",
    "plt.ylabel('number of categories')\n",
    "\n",
    "\n",
    "plt.show()"
   ]
  },
  {
   "cell_type": "code",
   "execution_count": null,
   "metadata": {},
   "outputs": [],
   "source": []
  }
 ],
 "metadata": {
  "kernelspec": {
   "display_name": "Python 3",
   "language": "python",
   "name": "python3"
  },
  "language_info": {
   "codemirror_mode": {
    "name": "ipython",
    "version": 3
   },
   "file_extension": ".py",
   "mimetype": "text/x-python",
   "name": "python",
   "nbconvert_exporter": "python",
   "pygments_lexer": "ipython3",
   "version": "3.8.5"
  }
 },
 "nbformat": 4,
 "nbformat_minor": 4
}
